{
 "cells": [
  {
   "cell_type": "markdown",
   "id": "a25a94ce",
   "metadata": {},
   "source": [
    "## All import statements"
   ]
  },
  {
   "cell_type": "code",
   "execution_count": 31,
   "id": "575b6403",
   "metadata": {},
   "outputs": [],
   "source": [
    "import numpy as np\n",
    "import matplotlib.pyplot as plt\n",
    "\n",
    "from sklearn.linear_model import LinearRegression\n",
    "from sklearn.metrics import mean_squared_error"
   ]
  },
  {
   "cell_type": "markdown",
   "id": "01170824",
   "metadata": {},
   "source": [
    "# MSE: Mean Squared Error\n",
    "moving from toy cost functions to a real regression cost: the Residual Sum of Squares (RSS) and its normalized form Mean Squared Error (MSE)."
   ]
  },
  {
   "cell_type": "markdown",
   "id": "264d5607",
   "metadata": {},
   "source": [
    "### RSS (intuition): sum of squared residuals:\n",
    "### $$ RSS = \\sum_{i=1}^{n} \\big( y^{(i)} - h_\\theta (x^{(i)}) \\big)^2 $$\n",
    "\n",
    "Measures how much of the dependent variable’s variation the model does not explain.\n",
    "RSS = 0 ⇒ perfect fit."
   ]
  },
  {
   "cell_type": "markdown",
   "id": "7b9f529c",
   "metadata": {},
   "source": [
    "### MSE (why divide by n?):\n",
    "### $$ MSE = \\frac{1}{n} \\sum_{i=1}^{n} \\big( y^{(i)} - h_\\theta (x^{(i)}) \\big)^2 $$\n",
    "MSE = average of the squared residuals; more numerically stable for large datasets.\n",
    "Dividing by n keeps the magnitude of the cost manageable and helps avoid floating-point overflow when n is large."
   ]
  },
  {
   "cell_type": "markdown",
   "id": "f62df9be",
   "metadata": {},
   "source": [
    "Notation: h_\\theta(x) (hypothesis) and \\hat{y} (y-hat) are equivalent ways to denote predicted values. The course uses ŷ (y-hat) in code.\n",
    "\n",
    "### $$ MSE = \\frac{1}{n} \\sum_{i=1}^{n} \\big( y - \\hat{y}) \\big)^2 $$"
   ]
  },
  {
   "cell_type": "markdown",
   "id": "013b68e4",
   "metadata": {},
   "source": [
    "- **LaTeX** tips used in notebook:\n",
    "\n",
    "\\$$ ... \\$$ for centered display math.\n",
    "\n",
    "\\sum_{i=1}^{n} for summation with limits.\n",
    "\n",
    "\\frac{1}{n} for fractions.\n",
    "\n",
    "\\hat{y} for y-hat.\n",
    "\n",
    "\\big( ... \\big)^2 or \\left( ... \\right)^2 for large parentheses."
   ]
  },
  {
   "cell_type": "code",
   "execution_count": null,
   "id": "368a6019",
   "metadata": {},
   "outputs": [],
   "source": [
    "# Practical impl. (Python):\n",
    "\n",
    "# RSS (raw sum):\n",
    "# rss = np.sum((y_true - y_pred)**2)\n",
    "# MSE (recommended):\n",
    "# mse = np.mean((y_true - y_pred)**2)\n",
    "# or\n",
    "# mse = np.sum((y_true - y_pred)**2) / len(y_true)"
   ]
  },
  {
   "cell_type": "markdown",
   "id": "9d8230f6",
   "metadata": {},
   "source": [
    "Use MSE in gradient descent to compute cost and gradients for linear regression.\n",
    "\n",
    "Takeaway: use MSE as your cost when working with real datasets — it’s conceptually the same as RSS but safer numerically and comparable across dataset sizes."
   ]
  },
  {
   "cell_type": "markdown",
   "id": "5aac3c57",
   "metadata": {},
   "source": [
    "**KEY TERMS / Questions**\n",
    "\n",
    "RSS — total squared error (not averaged).\n",
    "\n",
    "MSE - RSS divided by n — average squared error; preferred cost for regression.\n",
    "\n",
    "ŷ (y-hat): symbol for predicted value (same as h_θ​(x)).\n",
    "\n",
    "Overflow error: when computed numbers exceed floating-point limits; dividing by n reduces risk.\n",
    "\n",
    "Practical question: when you implement gradient descent with MSE, are you using the vectorized gradient formula (fast) or computing gradients pointwise (slow)? (Vectorized is recommended.)\n",
    "\n",
    "**Summary**\n",
    "\n",
    "RSS measures total squared error; MSE is the average squared error (RSS / n). MSE is preferred for real datasets because averaging keeps cost magnitudes reasonable and helps avoid overflow when n is large. In notebooks, use LaTeX (\\$$...\\$$) to display RSS/MSE nicely. Implement MSE in Python with np.mean((y_true - y_pred)**2) and use it as the cost function in gradient descent."
   ]
  },
  {
   "cell_type": "markdown",
   "id": "5883c335",
   "metadata": {},
   "source": [
    "## Work begins here:"
   ]
  },
  {
   "cell_type": "code",
   "execution_count": 2,
   "id": "1a7530e0",
   "metadata": {},
   "outputs": [
    {
     "name": "stdout",
     "output_type": "stream",
     "text": [
      "Shape of x5: (7,)\n",
      "Shape of y5: (7,)\n"
     ]
    }
   ],
   "source": [
    "# creating sample data:\n",
    "x5= np.array([0.2, 1.6, 2.7, 4.0, 6.6, 7.5, 9.9])\n",
    "y5= np.array([2.4, 1.9, 3.2, 3.0, 5.1, 6.7, 6.5])\n",
    "\n",
    "print(\"Shape of x5:\", x5.shape)\n",
    "print(\"Shape of y5:\", y5.shape)"
   ]
  },
  {
   "cell_type": "markdown",
   "id": "44ccac5a",
   "metadata": {},
   "source": [
    "- Both arrays are 1-D vectors with 7 samples.\n",
    "\n",
    "- scikit-learn LinearRegression needs X as 2-D\n",
    "\n",
    "- X must be shaped (n_samples, n_features) even if n_features == 1.\n",
    "\n",
    "Two ways to convert a 1-D x_5 into the required 2-D X:"
   ]
  },
  {
   "cell_type": "code",
   "execution_count": 5,
   "id": "42fa7f01",
   "metadata": {},
   "outputs": [],
   "source": [
    "x5 = np.array([x5]).T       # double brackets + .T  => shape (7,1)\n",
    "# or\n",
    "# x5 = x5.reshape(7, 1)       # reshape(n_samples, n_features)"
   ]
  },
  {
   "cell_type": "code",
   "execution_count": 6,
   "id": "83c090e8",
   "metadata": {},
   "outputs": [
    {
     "data": {
      "text/plain": [
       "(7, 1)"
      ]
     },
     "execution_count": 6,
     "metadata": {},
     "output_type": "execute_result"
    }
   ],
   "source": [
    "x5.shape"
   ]
  },
  {
   "cell_type": "markdown",
   "id": "7f38132c",
   "metadata": {},
   "source": [
    "(Note: many sklearn estimators accept y as a 1-D array (n_samples,); we can reshape y to (n_samples, 1) for consistency with how we access coef/intercept.)"
   ]
  },
  {
   "cell_type": "code",
   "execution_count": 8,
   "id": "3cdcd9d4",
   "metadata": {},
   "outputs": [
    {
     "data": {
      "text/plain": [
       "(7, 1)"
      ]
     },
     "execution_count": 8,
     "metadata": {},
     "output_type": "execute_result"
    }
   ],
   "source": [
    "y5 = np.array([y5]).T\n",
    "y5.shape"
   ]
  },
  {
   "cell_type": "code",
   "execution_count": 9,
   "id": "288fcc51",
   "metadata": {},
   "outputs": [
    {
     "data": {
      "text/html": [
       "<style>#sk-container-id-2 {\n",
       "  /* Definition of color scheme common for light and dark mode */\n",
       "  --sklearn-color-text: #000;\n",
       "  --sklearn-color-text-muted: #666;\n",
       "  --sklearn-color-line: gray;\n",
       "  /* Definition of color scheme for unfitted estimators */\n",
       "  --sklearn-color-unfitted-level-0: #fff5e6;\n",
       "  --sklearn-color-unfitted-level-1: #f6e4d2;\n",
       "  --sklearn-color-unfitted-level-2: #ffe0b3;\n",
       "  --sklearn-color-unfitted-level-3: chocolate;\n",
       "  /* Definition of color scheme for fitted estimators */\n",
       "  --sklearn-color-fitted-level-0: #f0f8ff;\n",
       "  --sklearn-color-fitted-level-1: #d4ebff;\n",
       "  --sklearn-color-fitted-level-2: #b3dbfd;\n",
       "  --sklearn-color-fitted-level-3: cornflowerblue;\n",
       "\n",
       "  /* Specific color for light theme */\n",
       "  --sklearn-color-text-on-default-background: var(--sg-text-color, var(--theme-code-foreground, var(--jp-content-font-color1, black)));\n",
       "  --sklearn-color-background: var(--sg-background-color, var(--theme-background, var(--jp-layout-color0, white)));\n",
       "  --sklearn-color-border-box: var(--sg-text-color, var(--theme-code-foreground, var(--jp-content-font-color1, black)));\n",
       "  --sklearn-color-icon: #696969;\n",
       "\n",
       "  @media (prefers-color-scheme: dark) {\n",
       "    /* Redefinition of color scheme for dark theme */\n",
       "    --sklearn-color-text-on-default-background: var(--sg-text-color, var(--theme-code-foreground, var(--jp-content-font-color1, white)));\n",
       "    --sklearn-color-background: var(--sg-background-color, var(--theme-background, var(--jp-layout-color0, #111)));\n",
       "    --sklearn-color-border-box: var(--sg-text-color, var(--theme-code-foreground, var(--jp-content-font-color1, white)));\n",
       "    --sklearn-color-icon: #878787;\n",
       "  }\n",
       "}\n",
       "\n",
       "#sk-container-id-2 {\n",
       "  color: var(--sklearn-color-text);\n",
       "}\n",
       "\n",
       "#sk-container-id-2 pre {\n",
       "  padding: 0;\n",
       "}\n",
       "\n",
       "#sk-container-id-2 input.sk-hidden--visually {\n",
       "  border: 0;\n",
       "  clip: rect(1px 1px 1px 1px);\n",
       "  clip: rect(1px, 1px, 1px, 1px);\n",
       "  height: 1px;\n",
       "  margin: -1px;\n",
       "  overflow: hidden;\n",
       "  padding: 0;\n",
       "  position: absolute;\n",
       "  width: 1px;\n",
       "}\n",
       "\n",
       "#sk-container-id-2 div.sk-dashed-wrapped {\n",
       "  border: 1px dashed var(--sklearn-color-line);\n",
       "  margin: 0 0.4em 0.5em 0.4em;\n",
       "  box-sizing: border-box;\n",
       "  padding-bottom: 0.4em;\n",
       "  background-color: var(--sklearn-color-background);\n",
       "}\n",
       "\n",
       "#sk-container-id-2 div.sk-container {\n",
       "  /* jupyter's `normalize.less` sets `[hidden] { display: none; }`\n",
       "     but bootstrap.min.css set `[hidden] { display: none !important; }`\n",
       "     so we also need the `!important` here to be able to override the\n",
       "     default hidden behavior on the sphinx rendered scikit-learn.org.\n",
       "     See: https://github.com/scikit-learn/scikit-learn/issues/21755 */\n",
       "  display: inline-block !important;\n",
       "  position: relative;\n",
       "}\n",
       "\n",
       "#sk-container-id-2 div.sk-text-repr-fallback {\n",
       "  display: none;\n",
       "}\n",
       "\n",
       "div.sk-parallel-item,\n",
       "div.sk-serial,\n",
       "div.sk-item {\n",
       "  /* draw centered vertical line to link estimators */\n",
       "  background-image: linear-gradient(var(--sklearn-color-text-on-default-background), var(--sklearn-color-text-on-default-background));\n",
       "  background-size: 2px 100%;\n",
       "  background-repeat: no-repeat;\n",
       "  background-position: center center;\n",
       "}\n",
       "\n",
       "/* Parallel-specific style estimator block */\n",
       "\n",
       "#sk-container-id-2 div.sk-parallel-item::after {\n",
       "  content: \"\";\n",
       "  width: 100%;\n",
       "  border-bottom: 2px solid var(--sklearn-color-text-on-default-background);\n",
       "  flex-grow: 1;\n",
       "}\n",
       "\n",
       "#sk-container-id-2 div.sk-parallel {\n",
       "  display: flex;\n",
       "  align-items: stretch;\n",
       "  justify-content: center;\n",
       "  background-color: var(--sklearn-color-background);\n",
       "  position: relative;\n",
       "}\n",
       "\n",
       "#sk-container-id-2 div.sk-parallel-item {\n",
       "  display: flex;\n",
       "  flex-direction: column;\n",
       "}\n",
       "\n",
       "#sk-container-id-2 div.sk-parallel-item:first-child::after {\n",
       "  align-self: flex-end;\n",
       "  width: 50%;\n",
       "}\n",
       "\n",
       "#sk-container-id-2 div.sk-parallel-item:last-child::after {\n",
       "  align-self: flex-start;\n",
       "  width: 50%;\n",
       "}\n",
       "\n",
       "#sk-container-id-2 div.sk-parallel-item:only-child::after {\n",
       "  width: 0;\n",
       "}\n",
       "\n",
       "/* Serial-specific style estimator block */\n",
       "\n",
       "#sk-container-id-2 div.sk-serial {\n",
       "  display: flex;\n",
       "  flex-direction: column;\n",
       "  align-items: center;\n",
       "  background-color: var(--sklearn-color-background);\n",
       "  padding-right: 1em;\n",
       "  padding-left: 1em;\n",
       "}\n",
       "\n",
       "\n",
       "/* Toggleable style: style used for estimator/Pipeline/ColumnTransformer box that is\n",
       "clickable and can be expanded/collapsed.\n",
       "- Pipeline and ColumnTransformer use this feature and define the default style\n",
       "- Estimators will overwrite some part of the style using the `sk-estimator` class\n",
       "*/\n",
       "\n",
       "/* Pipeline and ColumnTransformer style (default) */\n",
       "\n",
       "#sk-container-id-2 div.sk-toggleable {\n",
       "  /* Default theme specific background. It is overwritten whether we have a\n",
       "  specific estimator or a Pipeline/ColumnTransformer */\n",
       "  background-color: var(--sklearn-color-background);\n",
       "}\n",
       "\n",
       "/* Toggleable label */\n",
       "#sk-container-id-2 label.sk-toggleable__label {\n",
       "  cursor: pointer;\n",
       "  display: flex;\n",
       "  width: 100%;\n",
       "  margin-bottom: 0;\n",
       "  padding: 0.5em;\n",
       "  box-sizing: border-box;\n",
       "  text-align: center;\n",
       "  align-items: start;\n",
       "  justify-content: space-between;\n",
       "  gap: 0.5em;\n",
       "}\n",
       "\n",
       "#sk-container-id-2 label.sk-toggleable__label .caption {\n",
       "  font-size: 0.6rem;\n",
       "  font-weight: lighter;\n",
       "  color: var(--sklearn-color-text-muted);\n",
       "}\n",
       "\n",
       "#sk-container-id-2 label.sk-toggleable__label-arrow:before {\n",
       "  /* Arrow on the left of the label */\n",
       "  content: \"▸\";\n",
       "  float: left;\n",
       "  margin-right: 0.25em;\n",
       "  color: var(--sklearn-color-icon);\n",
       "}\n",
       "\n",
       "#sk-container-id-2 label.sk-toggleable__label-arrow:hover:before {\n",
       "  color: var(--sklearn-color-text);\n",
       "}\n",
       "\n",
       "/* Toggleable content - dropdown */\n",
       "\n",
       "#sk-container-id-2 div.sk-toggleable__content {\n",
       "  max-height: 0;\n",
       "  max-width: 0;\n",
       "  overflow: hidden;\n",
       "  text-align: left;\n",
       "  /* unfitted */\n",
       "  background-color: var(--sklearn-color-unfitted-level-0);\n",
       "}\n",
       "\n",
       "#sk-container-id-2 div.sk-toggleable__content.fitted {\n",
       "  /* fitted */\n",
       "  background-color: var(--sklearn-color-fitted-level-0);\n",
       "}\n",
       "\n",
       "#sk-container-id-2 div.sk-toggleable__content pre {\n",
       "  margin: 0.2em;\n",
       "  border-radius: 0.25em;\n",
       "  color: var(--sklearn-color-text);\n",
       "  /* unfitted */\n",
       "  background-color: var(--sklearn-color-unfitted-level-0);\n",
       "}\n",
       "\n",
       "#sk-container-id-2 div.sk-toggleable__content.fitted pre {\n",
       "  /* unfitted */\n",
       "  background-color: var(--sklearn-color-fitted-level-0);\n",
       "}\n",
       "\n",
       "#sk-container-id-2 input.sk-toggleable__control:checked~div.sk-toggleable__content {\n",
       "  /* Expand drop-down */\n",
       "  max-height: 200px;\n",
       "  max-width: 100%;\n",
       "  overflow: auto;\n",
       "}\n",
       "\n",
       "#sk-container-id-2 input.sk-toggleable__control:checked~label.sk-toggleable__label-arrow:before {\n",
       "  content: \"▾\";\n",
       "}\n",
       "\n",
       "/* Pipeline/ColumnTransformer-specific style */\n",
       "\n",
       "#sk-container-id-2 div.sk-label input.sk-toggleable__control:checked~label.sk-toggleable__label {\n",
       "  color: var(--sklearn-color-text);\n",
       "  background-color: var(--sklearn-color-unfitted-level-2);\n",
       "}\n",
       "\n",
       "#sk-container-id-2 div.sk-label.fitted input.sk-toggleable__control:checked~label.sk-toggleable__label {\n",
       "  background-color: var(--sklearn-color-fitted-level-2);\n",
       "}\n",
       "\n",
       "/* Estimator-specific style */\n",
       "\n",
       "/* Colorize estimator box */\n",
       "#sk-container-id-2 div.sk-estimator input.sk-toggleable__control:checked~label.sk-toggleable__label {\n",
       "  /* unfitted */\n",
       "  background-color: var(--sklearn-color-unfitted-level-2);\n",
       "}\n",
       "\n",
       "#sk-container-id-2 div.sk-estimator.fitted input.sk-toggleable__control:checked~label.sk-toggleable__label {\n",
       "  /* fitted */\n",
       "  background-color: var(--sklearn-color-fitted-level-2);\n",
       "}\n",
       "\n",
       "#sk-container-id-2 div.sk-label label.sk-toggleable__label,\n",
       "#sk-container-id-2 div.sk-label label {\n",
       "  /* The background is the default theme color */\n",
       "  color: var(--sklearn-color-text-on-default-background);\n",
       "}\n",
       "\n",
       "/* On hover, darken the color of the background */\n",
       "#sk-container-id-2 div.sk-label:hover label.sk-toggleable__label {\n",
       "  color: var(--sklearn-color-text);\n",
       "  background-color: var(--sklearn-color-unfitted-level-2);\n",
       "}\n",
       "\n",
       "/* Label box, darken color on hover, fitted */\n",
       "#sk-container-id-2 div.sk-label.fitted:hover label.sk-toggleable__label.fitted {\n",
       "  color: var(--sklearn-color-text);\n",
       "  background-color: var(--sklearn-color-fitted-level-2);\n",
       "}\n",
       "\n",
       "/* Estimator label */\n",
       "\n",
       "#sk-container-id-2 div.sk-label label {\n",
       "  font-family: monospace;\n",
       "  font-weight: bold;\n",
       "  display: inline-block;\n",
       "  line-height: 1.2em;\n",
       "}\n",
       "\n",
       "#sk-container-id-2 div.sk-label-container {\n",
       "  text-align: center;\n",
       "}\n",
       "\n",
       "/* Estimator-specific */\n",
       "#sk-container-id-2 div.sk-estimator {\n",
       "  font-family: monospace;\n",
       "  border: 1px dotted var(--sklearn-color-border-box);\n",
       "  border-radius: 0.25em;\n",
       "  box-sizing: border-box;\n",
       "  margin-bottom: 0.5em;\n",
       "  /* unfitted */\n",
       "  background-color: var(--sklearn-color-unfitted-level-0);\n",
       "}\n",
       "\n",
       "#sk-container-id-2 div.sk-estimator.fitted {\n",
       "  /* fitted */\n",
       "  background-color: var(--sklearn-color-fitted-level-0);\n",
       "}\n",
       "\n",
       "/* on hover */\n",
       "#sk-container-id-2 div.sk-estimator:hover {\n",
       "  /* unfitted */\n",
       "  background-color: var(--sklearn-color-unfitted-level-2);\n",
       "}\n",
       "\n",
       "#sk-container-id-2 div.sk-estimator.fitted:hover {\n",
       "  /* fitted */\n",
       "  background-color: var(--sklearn-color-fitted-level-2);\n",
       "}\n",
       "\n",
       "/* Specification for estimator info (e.g. \"i\" and \"?\") */\n",
       "\n",
       "/* Common style for \"i\" and \"?\" */\n",
       "\n",
       ".sk-estimator-doc-link,\n",
       "a:link.sk-estimator-doc-link,\n",
       "a:visited.sk-estimator-doc-link {\n",
       "  float: right;\n",
       "  font-size: smaller;\n",
       "  line-height: 1em;\n",
       "  font-family: monospace;\n",
       "  background-color: var(--sklearn-color-background);\n",
       "  border-radius: 1em;\n",
       "  height: 1em;\n",
       "  width: 1em;\n",
       "  text-decoration: none !important;\n",
       "  margin-left: 0.5em;\n",
       "  text-align: center;\n",
       "  /* unfitted */\n",
       "  border: var(--sklearn-color-unfitted-level-1) 1pt solid;\n",
       "  color: var(--sklearn-color-unfitted-level-1);\n",
       "}\n",
       "\n",
       ".sk-estimator-doc-link.fitted,\n",
       "a:link.sk-estimator-doc-link.fitted,\n",
       "a:visited.sk-estimator-doc-link.fitted {\n",
       "  /* fitted */\n",
       "  border: var(--sklearn-color-fitted-level-1) 1pt solid;\n",
       "  color: var(--sklearn-color-fitted-level-1);\n",
       "}\n",
       "\n",
       "/* On hover */\n",
       "div.sk-estimator:hover .sk-estimator-doc-link:hover,\n",
       ".sk-estimator-doc-link:hover,\n",
       "div.sk-label-container:hover .sk-estimator-doc-link:hover,\n",
       ".sk-estimator-doc-link:hover {\n",
       "  /* unfitted */\n",
       "  background-color: var(--sklearn-color-unfitted-level-3);\n",
       "  color: var(--sklearn-color-background);\n",
       "  text-decoration: none;\n",
       "}\n",
       "\n",
       "div.sk-estimator.fitted:hover .sk-estimator-doc-link.fitted:hover,\n",
       ".sk-estimator-doc-link.fitted:hover,\n",
       "div.sk-label-container:hover .sk-estimator-doc-link.fitted:hover,\n",
       ".sk-estimator-doc-link.fitted:hover {\n",
       "  /* fitted */\n",
       "  background-color: var(--sklearn-color-fitted-level-3);\n",
       "  color: var(--sklearn-color-background);\n",
       "  text-decoration: none;\n",
       "}\n",
       "\n",
       "/* Span, style for the box shown on hovering the info icon */\n",
       ".sk-estimator-doc-link span {\n",
       "  display: none;\n",
       "  z-index: 9999;\n",
       "  position: relative;\n",
       "  font-weight: normal;\n",
       "  right: .2ex;\n",
       "  padding: .5ex;\n",
       "  margin: .5ex;\n",
       "  width: min-content;\n",
       "  min-width: 20ex;\n",
       "  max-width: 50ex;\n",
       "  color: var(--sklearn-color-text);\n",
       "  box-shadow: 2pt 2pt 4pt #999;\n",
       "  /* unfitted */\n",
       "  background: var(--sklearn-color-unfitted-level-0);\n",
       "  border: .5pt solid var(--sklearn-color-unfitted-level-3);\n",
       "}\n",
       "\n",
       ".sk-estimator-doc-link.fitted span {\n",
       "  /* fitted */\n",
       "  background: var(--sklearn-color-fitted-level-0);\n",
       "  border: var(--sklearn-color-fitted-level-3);\n",
       "}\n",
       "\n",
       ".sk-estimator-doc-link:hover span {\n",
       "  display: block;\n",
       "}\n",
       "\n",
       "/* \"?\"-specific style due to the `<a>` HTML tag */\n",
       "\n",
       "#sk-container-id-2 a.estimator_doc_link {\n",
       "  float: right;\n",
       "  font-size: 1rem;\n",
       "  line-height: 1em;\n",
       "  font-family: monospace;\n",
       "  background-color: var(--sklearn-color-background);\n",
       "  border-radius: 1rem;\n",
       "  height: 1rem;\n",
       "  width: 1rem;\n",
       "  text-decoration: none;\n",
       "  /* unfitted */\n",
       "  color: var(--sklearn-color-unfitted-level-1);\n",
       "  border: var(--sklearn-color-unfitted-level-1) 1pt solid;\n",
       "}\n",
       "\n",
       "#sk-container-id-2 a.estimator_doc_link.fitted {\n",
       "  /* fitted */\n",
       "  border: var(--sklearn-color-fitted-level-1) 1pt solid;\n",
       "  color: var(--sklearn-color-fitted-level-1);\n",
       "}\n",
       "\n",
       "/* On hover */\n",
       "#sk-container-id-2 a.estimator_doc_link:hover {\n",
       "  /* unfitted */\n",
       "  background-color: var(--sklearn-color-unfitted-level-3);\n",
       "  color: var(--sklearn-color-background);\n",
       "  text-decoration: none;\n",
       "}\n",
       "\n",
       "#sk-container-id-2 a.estimator_doc_link.fitted:hover {\n",
       "  /* fitted */\n",
       "  background-color: var(--sklearn-color-fitted-level-3);\n",
       "}\n",
       "</style><div id=\"sk-container-id-2\" class=\"sk-top-container\"><div class=\"sk-text-repr-fallback\"><pre>LinearRegression()</pre><b>In a Jupyter environment, please rerun this cell to show the HTML representation or trust the notebook. <br />On GitHub, the HTML representation is unable to render, please try loading this page with nbviewer.org.</b></div><div class=\"sk-container\" hidden><div class=\"sk-item\"><div class=\"sk-estimator fitted sk-toggleable\"><input class=\"sk-toggleable__control sk-hidden--visually\" id=\"sk-estimator-id-2\" type=\"checkbox\" checked><label for=\"sk-estimator-id-2\" class=\"sk-toggleable__label fitted sk-toggleable__label-arrow\"><div><div>LinearRegression</div></div><div><a class=\"sk-estimator-doc-link fitted\" rel=\"noreferrer\" target=\"_blank\" href=\"https://scikit-learn.org/1.6/modules/generated/sklearn.linear_model.LinearRegression.html\">?<span>Documentation for LinearRegression</span></a><span class=\"sk-estimator-doc-link fitted\">i<span>Fitted</span></span></div></label><div class=\"sk-toggleable__content fitted\"><pre>LinearRegression()</pre></div> </div></div></div></div>"
      ],
      "text/plain": [
       "LinearRegression()"
      ]
     },
     "execution_count": 9,
     "metadata": {},
     "output_type": "execute_result"
    }
   ],
   "source": [
    "# Quick Linear Regression fit:\n",
    "regr = LinearRegression()\n",
    "regr.fit(x5, y5)"
   ]
  },
  {
   "cell_type": "code",
   "execution_count": 19,
   "id": "59a70522",
   "metadata": {},
   "outputs": [
    {
     "name": "stdout",
     "output_type": "stream",
     "text": [
      "Theta_0 (intercept): 1.6463901749980385\n",
      "Theta_1 (slope): 0.5315467315388841\n"
     ]
    }
   ],
   "source": [
    "theta_0= regr.intercept_[0]\n",
    "theta_1= regr.coef_[0][0]\n",
    "print(\"Theta_0 (intercept):\", theta_0)\n",
    "print(\"Theta_1 (slope):\", theta_1)"
   ]
  },
  {
   "cell_type": "markdown",
   "id": "b87f8aab",
   "metadata": {},
   "source": [
    "## Plotting time"
   ]
  },
  {
   "cell_type": "code",
   "execution_count": 18,
   "id": "4e3830d0",
   "metadata": {},
   "outputs": [
    {
     "data": {
      "image/png": "[encoded data removed]",
      "text/plain": [
       "<Figure size 640x480 with 1 Axes>"
      ]
     },
     "metadata": {},
     "output_type": "display_data"
    }
   ],
   "source": [
    "plt.scatter(x5, y5, color='blue')\n",
    "plt.plot(x5, regr.predict(x5), color= 'yellow')\n",
    "plt.style.use('ggplot')\n",
    "plt.show()"
   ]
  },
  {
   "cell_type": "markdown",
   "id": "815ec291",
   "metadata": {},
   "source": [
    "- Reminder: this plot is of data (x,y), not the cost surface over θ parameters.\n",
    "\n",
    "- Important conceptual distinction:\n",
    "\n",
    "Previous lessons plotted cost functions in parameter space (e.g., cost as a function of θ₀, θ₁).\n",
    "\n",
    "Here we plot data & fitted line (x → ŷ). The cost surface depends on θ values, not the x/y axes of this plot."
   ]
  },
  {
   "cell_type": "markdown",
   "id": "2e2b12ad",
   "metadata": {},
   "source": [
    "**KEY TERMS / Questions**\n",
    "\n",
    "- X shape requirement: X must be 2-D (n_samples, n_features). Use .reshape(n,1) or np.array([x]).T.\n",
    "\n",
    "- y shape: sklearn commonly accepts y as 1-D (n_samples,). Lesson used (n_samples, 1)—be consistent with how you index intercept_ / coef_.\n",
    "\n",
    "- regr.intercept_ / regr.coef_: intercept is often an array ([b]) and coef is an array (shape (1,1) for single feature) — index accordingly.\n",
    "\n",
    "- ŷ (y-hat): predicted values from the model regr.predict(X).\n",
    "\n",
    "- Question to check: do you pass y as 1-D or 2-D in your code? If 2-D, remember how you index intercept_ and coef_.\n",
    "\n",
    "**Summary**\n",
    "\n",
    "You generated a small sample dataset (x_5, y_5), learned that scikit-learn requires the feature matrix X to be 2-D, and saw two ways to convert a 1-D vector into (n_samples, 1) (.reshape or double brackets + .T). You fitted a LinearRegression model, extracted the intercept and slope (θ₀, θ₁), and plotted the data with the fitted line. Finally, you were reminded of the key conceptual difference: the regression plot shows data and predictions (x → ŷ), whereas earlier lessons were plotting cost surfaces in parameter (θ) space."
   ]
  },
  {
   "cell_type": "markdown",
   "id": "defd531a",
   "metadata": {},
   "source": [
    "## Implementing MSE concept"
   ]
  },
  {
   "cell_type": "code",
   "execution_count": 25,
   "id": "6dadf0da",
   "metadata": {},
   "outputs": [
    {
     "name": "stdout",
     "output_type": "stream",
     "text": [
      "(7, 1)\n",
      "Estimated values of y (y_hat):\n",
      " [[1.75269952]\n",
      " [2.49686495]\n",
      " [3.08156635]\n",
      " [3.7725771 ]\n",
      " [5.1545986 ]\n",
      " [5.63299066]\n",
      " [6.90870282]]\n",
      "Actual values of y:\n",
      " [[2.4]\n",
      " [1.9]\n",
      " [3.2]\n",
      " [3. ]\n",
      " [5.1]\n",
      " [6.7]\n",
      " [6.5]]\n",
      "Differences between these:\n",
      " [[0.64730048]\n",
      " [0.59686495]\n",
      " [0.11843365]\n",
      " [0.7725771 ]\n",
      " [0.0545986 ]\n",
      " [1.06700934]\n",
      " [0.40870282]]\n"
     ]
    }
   ],
   "source": [
    "y_hat = theta_0 + theta_1 * x5\n",
    "print(y_hat.shape)\n",
    "print(\"Estimated values of y (y_hat):\\n\", y_hat)\n",
    "print(\"Actual values of y:\\n\", y5)\n",
    "print(\"Differences between these:\\n\", abs(y5 - y_hat))"
   ]
  },
  {
   "cell_type": "code",
   "execution_count": 29,
   "id": "57dba2d0",
   "metadata": {},
   "outputs": [],
   "source": [
    "def mse_calc(y, y_hat):\n",
    "    # return 1/y.size * sum((y - y_hat)**2)\n",
    "    return np.mean((y - y_hat)**2, axis=0)"
   ]
  },
  {
   "cell_type": "code",
   "execution_count": 33,
   "id": "474c0664",
   "metadata": {},
   "outputs": [
    {
     "name": "stdout",
     "output_type": "stream",
     "text": [
      "MSE calculated manually: 0.384953644017444\n",
      "MSE calculated via sklearn with manually calculated y_hat values:\n",
      " 0.384953644017444\n",
      "MSE calculated via sklearn with regr.predict() values:\n",
      " 0.384953644017444\n"
     ]
    }
   ],
   "source": [
    "result= mse_calc(y5, y_hat)\n",
    "print(\"MSE calculated manually:\", result[0])\n",
    "print(\"MSE calculated via sklearn with manually calculated y_hat values:\\n\",\n",
    "      mean_squared_error(y5, y_hat))\n",
    "print(\"MSE calculated via sklearn with regr.predict() values:\\n\",\n",
    "      mean_squared_error(y5, regr.predict(x5)))"
   ]
  }
 ],
 "metadata": {
  "kernelspec": {
   "display_name": "ml_env",
   "language": "python",
   "name": "python3"
  },
  "language_info": {
   "codemirror_mode": {
    "name": "ipython",
    "version": 3
   },
   "file_extension": ".py",
   "mimetype": "text/x-python",
   "name": "python",
   "nbconvert_exporter": "python",
   "pygments_lexer": "ipython3",
   "version": "3.11.4"
  }
 },
 "nbformat": 4,
 "nbformat_minor": 5
}

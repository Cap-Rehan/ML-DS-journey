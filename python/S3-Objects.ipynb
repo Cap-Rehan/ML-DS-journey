{
 "cells": [
  {
   "cell_type": "markdown",
   "id": "eb3d5a6a",
   "metadata": {},
   "source": [
    "## Everything is an object"
   ]
  },
  {
   "cell_type": "markdown",
   "id": "aadb36e8",
   "metadata": {},
   "source": [
    "numbers, strings, modules (math), DataFrames (pd.DataFrame), custom scripts (life), etc."
   ]
  },
  {
   "cell_type": "markdown",
   "id": "e4295e4a",
   "metadata": {},
   "source": [
    "- Object state & attributes:\n",
    "\n",
    "Objects carry attributes that describe their current state (e.g., lightning_mcqueen.fuel_level, regr.intercept_, math.pi).\n",
    "\n",
    "Access via dot notation: object.attribute.\n",
    "\n",
    "- Methods = functions bound to objects:\n",
    "\n",
    "Invoke behaviors that may change state or produce side effects (e.g., lightning_mcqueen.drive(), pd.read_csv(), plt.show()).\n",
    "\n",
    "Syntax: object.method(args…).\n",
    "\n",
    "- Defining methods in your module:\n",
    "\n",
    "Add def quote_maximus(): … inside life.py.\n",
    "\n",
    "Escape special characters in strings with backslashes (\\')."
   ]
  },
  {
   "cell_type": "code",
   "execution_count": 1,
   "id": "5fcfd624",
   "metadata": {},
   "outputs": [
    {
     "name": "stdout",
     "output_type": "stream",
     "text": [
      "What we do in life echoes in eternity.\n"
     ]
    }
   ],
   "source": [
    "# import and call\n",
    "import life as hitchhikersGuide\n",
    "hitchhikersGuide.quote_maximus()"
   ]
  },
  {
   "cell_type": "markdown",
   "id": "f91b3440",
   "metadata": {},
   "source": [
    "- Variables vs. objects:\n",
    "\n",
    "A variable is a name (“box”) referencing an object in memory.\n",
    "\n",
    "You can reassign the variable to different objects (e.g., myAge = 32 → ‘200’ → 20.53).\n",
    "\n",
    "The object’s type (and behavior) lives with the object, not the variable.\n",
    "\n",
    "- Dynamic typing & behavior:\n",
    "\n",
    "Operators/methods adapt to object types (3 * 4 → 12; 'Ni' * 4 → 'NiNiNiNi').\n",
    "\n",
    "Python emphasizes what an object does (its methods) over its static type.\n",
    "\n",
    "- Building on prior examples:\n",
    "\n",
    "Regression: X = pd.read_csv(... ), regression.fit(X, y), plt.scatter(X, y), slope = regression.coef_.\n",
    "\n",
    "Calculator challenge: implement square_root(x) in life.py using math.sqrt"
   ]
  },
  {
   "cell_type": "markdown",
   "id": "661d2121",
   "metadata": {},
   "source": [
    "**Key Terms / Questions**\n",
    "- Object\n",
    "- Attribute\n",
    "- Method\n",
    "- Dot notation\n",
    "- Variable vs. object\n",
    "- Dynamic typing\n",
    "- Escaping strings (\\')\n",
    "- Q: How do you list an object’s methods/attributes?\n",
    "- Q: When should you encapsulate functionality in a method vs. a standalone function?"
   ]
  },
  {
   "cell_type": "markdown",
   "id": "15043625",
   "metadata": {},
   "source": [
    "**Summary**\n",
    "\n",
    "In Python, all values are objects with attributes (state) and methods (behaviors), accessed via object.attribute and object.method(). Variables merely reference objects, whose types and available operations are determined at runtime—enabling flexible, expressive code design."
   ]
  }
 ],
 "metadata": {
  "kernelspec": {
   "display_name": "ml_env",
   "language": "python",
   "name": "python3"
  },
  "language_info": {
   "codemirror_mode": {
    "name": "ipython",
    "version": 3
   },
   "file_extension": ".py",
   "mimetype": "text/x-python",
   "name": "python",
   "nbconvert_exporter": "python",
   "pygments_lexer": "ipython3",
   "version": "3.11.4"
  }
 },
 "nbformat": 4,
 "nbformat_minor": 5
}

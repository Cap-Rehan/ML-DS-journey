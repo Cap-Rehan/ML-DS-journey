{
 "cells": [
  {
   "cell_type": "markdown",
   "id": "97d29a5d",
   "metadata": {},
   "source": [
    "## Python Modules & Packages"
   ]
  },
  {
   "cell_type": "markdown",
   "id": "fb015a02",
   "metadata": {},
   "source": [
    "A module = any .py file containing Python code.\n",
    "\n",
    "A package = a directory of modules (e.g., the entire pandas folder is a package).\n",
    "\n",
    "Importing loads that code into your namespace so you can reuse it."
   ]
  },
  {
   "cell_type": "code",
   "execution_count": 1,
   "id": "3b2c37b0",
   "metadata": {},
   "outputs": [],
   "source": [
    "import math\n",
    "import life"
   ]
  },
  {
   "cell_type": "code",
   "execution_count": 3,
   "id": "3e2d2f46",
   "metadata": {},
   "outputs": [
    {
     "name": "stdout",
     "output_type": "stream",
     "text": [
      "3.141592653589793\n",
      "Henry Cavill\n"
     ]
    }
   ],
   "source": [
    "# Brings in the entire module as an object.\n",
    "# Access members via dot notation: \n",
    "print(math.pi)\n",
    "print(life.name)"
   ]
  },
  {
   "cell_type": "code",
   "execution_count": 7,
   "id": "e8775ff3",
   "metadata": {},
   "outputs": [],
   "source": [
    "# Aliasing with 'as' :\n",
    "import life as lf"
   ]
  },
  {
   "cell_type": "code",
   "execution_count": 8,
   "id": "40ef8d4c",
   "metadata": {},
   "outputs": [
    {
     "data": {
      "text/plain": [
       "'Man of Steel'"
      ]
     },
     "execution_count": 8,
     "metadata": {},
     "output_type": "execute_result"
    }
   ],
   "source": [
    "lf.movie"
   ]
  },
  {
   "cell_type": "code",
   "execution_count": null,
   "id": "c7b222f3",
   "metadata": {},
   "outputs": [
    {
     "data": {
      "text/plain": [
       "40"
      ]
     },
     "execution_count": 10,
     "metadata": {},
     "output_type": "execute_result"
    }
   ],
   "source": [
    "# Selective import with 'from … import ...'\n",
    "from life import age\n",
    "age # no need for dot notation here"
   ]
  },
  {
   "cell_type": "markdown",
   "id": "672c2068",
   "metadata": {},
   "source": [
    "Copies the specified attribute into your namespace as a standalone variable/class.\n",
    "\n",
    "Use it directly: LinearRegression(), theAnswer.\n",
    "\n",
    "Unlike import, you don’t reference the module name again.\n",
    "\n",
    "- Why this matters\n",
    "\n",
    "Reusability: Leverage thousands of lines of community‑built code (e.g., scikit‑learn, pandas) rather than reinventing the wheel.\n",
    "\n",
    "Organization: Namespacing via modules/packages keeps code clean.\n",
    "\n",
    "Convention: Common aliases (pd, plt) speed up coding and readability across projects"
   ]
  },
  {
   "cell_type": "markdown",
   "id": "2844eff3",
   "metadata": {},
   "source": [
    "**Key Terms / Questions**\n",
    "- Module (.py file)\n",
    "- Package (folder of modules)\n",
    "- import\n",
    "- as (alias)\n",
    "- from … import\n",
    "- Dot notation\n",
    "- Namespace\n",
    "- Q: When is from … import preferred over import … as?\n",
    "- Q: How do you inspect a module’s contents (e.g., list of functions)?"
   ]
  },
  {
   "cell_type": "markdown",
   "id": "9514fd85",
   "metadata": {},
   "source": [
    "**Summary**\n",
    "\n",
    "Python’s import system lets you tap into both your own .py scripts and vast open‑source libraries. Use import module (and optionally as for an alias) to access everything under a module, or from module import name to pull specific items directly into your namespace—powering rapid, organized, and readable code reuse."
   ]
  }
 ],
 "metadata": {
  "kernelspec": {
   "display_name": "ml_env",
   "language": "python",
   "name": "python3"
  },
  "language_info": {
   "codemirror_mode": {
    "name": "ipython",
    "version": 3
   },
   "file_extension": ".py",
   "mimetype": "text/x-python",
   "name": "python",
   "nbconvert_exporter": "python",
   "pygments_lexer": "ipython3",
   "version": "3.11.4"
  }
 },
 "nbformat": 4,
 "nbformat_minor": 5
}

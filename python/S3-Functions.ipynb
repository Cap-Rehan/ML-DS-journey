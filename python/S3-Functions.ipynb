{
 "cells": [
  {
   "cell_type": "markdown",
   "id": "636799be",
   "metadata": {},
   "source": [
    "## What we know about Functions "
   ]
  },
  {
   "cell_type": "markdown",
   "id": "05aafc0c",
   "metadata": {},
   "source": [
    "- Anatomy:\n",
    "\n",
    "Header: def keyword + function name + () + :\n",
    "\n",
    "Body: indented block (4 spaces) of statements executed when called\n",
    "\n",
    "Indentation is syntactic: groups body under header; missing or extra spaces lead to errors.\n",
    "- Distinguishing\n",
    "\n",
    "Functions: parentheses after a name indicate a call; plt.show()\n",
    "\n",
    "Variable/accessor: math.pi, life.theAnswer (no ())\n",
    "- Benefits:\n",
    "\n",
    "Abstraction & Reuse: hide complex steps behind a simple name\n",
    "\n",
    "Maintainability: change logic in one place, call everywhere\n",
    "\n",
    "Readability: descriptive names convey intent"
   ]
  },
  {
   "cell_type": "markdown",
   "id": "e3b443ea",
   "metadata": {
    "vscode": {
     "languageId": "plaintext"
    }
   },
   "source": [
    "- Parameters vs. Arguments\n",
    "\n",
    "Parameter = placeholder name in function header (e.g., amount, destination).\n",
    "\n",
    "Argument = actual value passed when calling the function (e.g., 'five', 'store')"
   ]
  },
  {
   "cell_type": "code",
   "execution_count": null,
   "id": "27e688b2",
   "metadata": {},
   "outputs": [],
   "source": [
    "def fill_the_fridge(amount):\n",
    "    print(\"Buy \" + amount + \" cartons\")"
   ]
  },
  {
   "cell_type": "markdown",
   "id": "0bff7cc4",
   "metadata": {},
   "source": [
    "Must supply exactly the parameters declared, or you get a TypeError (“missing required argument”).\n",
    "\n",
    "- Positional arguments:\n",
    "\n",
    "Passed by order: milk_mission('twenty', 'store') → amount='twenty', destination='store'.\n",
    "\n",
    "Swapping order leads to semantically wrong behavior.\n",
    "\n",
    "- Keyword (named) arguments:\n",
    "\n",
    "Passed by name=value: milk_mission(destination='store', amount='twenty').\n",
    "\n",
    "Order doesn’t matter when every argument is named.\n",
    "\n",
    "Mixing positional and keyword allowed—positional must come first.\n",
    "\n",
    "- Function nesting: you can call one function inside another (e.g., using print() within your own function).\n",
    "\n",
    "- Plus operator is overloaded:\n",
    "\n",
    "+ on numbers performs addition.\n",
    "\n",
    "+ on strings performs concatenation."
   ]
  },
  {
   "cell_type": "markdown",
   "id": "30e03da1",
   "metadata": {},
   "source": [
    "**Key Terms / Questions**\n",
    "- Parameter (function definition placeholder)\n",
    "- Argument (value passed in call)\n",
    "- Positional argument\n",
    "- Keyword argument\n",
    "- TypeError (missing/duplicate args)\n",
    "- Argument overloading (+)\n",
    "- Q: How do you provide default values for parameters?\n",
    "- Q: When should you prefer keyword over positional arguments?"
   ]
  },
  {
   "cell_type": "markdown",
   "id": "c083427f",
   "metadata": {},
   "source": [
    "### Return Values: functions can output data via the return statement."
   ]
  },
  {
   "cell_type": "code",
   "execution_count": 1,
   "id": "b63ca951",
   "metadata": {},
   "outputs": [],
   "source": [
    "def get_milk(money):\n",
    "    litres = money / 1.15\n",
    "    return litres"
   ]
  },
  {
   "cell_type": "code",
   "execution_count": 2,
   "id": "29b1373c",
   "metadata": {},
   "outputs": [],
   "source": [
    "# When Python executes return, it exits the function immediately and\n",
    "# hands back the following value.\n",
    "\n",
    "# Using a return: capture the output in a variable:\n",
    "bought = get_milk(20.5)\n",
    "# bought now holds the returned value (≈17.8)."
   ]
  },
  {
   "cell_type": "markdown",
   "id": "8bd14536",
   "metadata": {},
   "source": [
    "You can inline the calculation directly in the return (no intermediate variable needed).\n",
    "\n",
    "- Dynamic Typing: Python’s operators work across types—e.g., times('Ni', 4) repeats the string ('NiNiNiNi').\n",
    "\n",
    "Implication: functions must handle or guard against unexpected types when necessary.\n",
    "\n",
    "- Function Flavors:\n",
    "\n",
    "No inputs, no outputs (e.g., show())\n",
    "\n",
    "Inputs only (e.g., fill_the_fridge(amount))\n",
    "\n",
    "Input + output (e.g., times(x, y) or get_milk(money))\n",
    "\n",
    "- Design & Reuse:\n",
    "\n",
    "Functions break complex tasks into manageable pieces.\n",
    "\n",
    "They enable code reuse across different inputs (e.g., running regressions on many X/Y pairs).\n",
    "\n",
    "At a larger scale, modules and packages group related functions/files to tame complexity.\n",
    "\n",
    "Pythonic philosophy: “Simple is better than complex; complex is better than complicated.” (import this)"
   ]
  },
  {
   "cell_type": "markdown",
   "id": "e4726d2f",
   "metadata": {},
   "source": [
    "**Key Terms / Questions**\n",
    "- return\n",
    "- Return value\n",
    "- Dynamic typing\n",
    "- Operator overloading\n",
    "- Code reuse\n",
    "- Taming complexity\n",
    "- Q: How can you enforce type checks inside a function?\n",
    "- Q: When should a function return None vs. a meaningful value?"
   ]
  }
 ],
 "metadata": {
  "kernelspec": {
   "display_name": "ml_env",
   "language": "python",
   "name": "python3"
  },
  "language_info": {
   "codemirror_mode": {
    "name": "ipython",
    "version": 3
   },
   "file_extension": ".py",
   "mimetype": "text/x-python",
   "name": "python",
   "nbconvert_exporter": "python",
   "pygments_lexer": "ipython3",
   "version": "3.11.4"
  }
 },
 "nbformat": 4,
 "nbformat_minor": 5
}

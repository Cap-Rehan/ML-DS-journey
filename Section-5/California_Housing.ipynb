{
 "cells": [
  {
   "cell_type": "markdown",
   "id": "8eccae85",
   "metadata": {},
   "source": [
    "# Notebook Imports"
   ]
  },
  {
   "cell_type": "code",
   "execution_count": null,
   "id": "a3fbdd2d",
   "metadata": {},
   "outputs": [],
   "source": [
    "# from sklearn.datasets import load_boston\n",
    "# ImportError: \n",
    "# `load_boston` has been removed from scikit-learn since version 1.2.\n",
    "\n",
    "# In this special case, you can fetch the dataset from the original source:\n",
    "\n",
    "# import pandas as pd\n",
    "# import numpy as np\n",
    "\n",
    "# data_url = \"http://lib.stat.cmu.edu/datasets/boston\"\n",
    "# raw_df = pd.read_csv(data_url, sep=\"\\s+\", skiprows=22, header=None)\n",
    "# data = np.hstack([raw_df.values[::2, :], raw_df.values[1::2, :2]])\n",
    "# target = raw_df.values[1::2, 2]"
   ]
  },
  {
   "cell_type": "code",
   "execution_count": null,
   "id": "04feb698",
   "metadata": {},
   "outputs": [
    {
     "name": "stdout",
     "output_type": "stream",
     "text": [
      "<class 'pandas.core.frame.DataFrame'>\n",
      "<class 'numpy.ndarray'>\n",
      "<class 'numpy.ndarray'>\n"
     ]
    }
   ],
   "source": [
    "# print(type(raw_df))\n",
    "# print(type(data))\n",
    "# print(type(target))"
   ]
  },
  {
   "cell_type": "markdown",
   "id": "2fbe920d",
   "metadata": {},
   "source": [
    "1. Problem Definition\n",
    "\n",
    "- First step in data science/ML: define the problem clearly and ask the right questions.\n",
    "\n",
    "- Boston housing example: friend asks “How much does a house cost in Boston?” — without more info, the only valid answer is the average home price (~$567,500).\n",
    "\n",
    "- Shows why vague or poorly phrased questions → weak solutions."
   ]
  },
  {
   "cell_type": "markdown",
   "id": "0389831b",
   "metadata": {},
   "source": [
    "2. Real-World Example (Boston Housing)\n",
    "\n",
    "- Factors affecting price: size of house, location (downtown/suburbs), features (rooms, crime, schools, etc.).\n",
    "\n",
    "- Boss’s project: build a valuation tool for real estate agents in Boston.\n",
    "\n",
    "Tool must:\n",
    "\n",
    "- Predict house price based on features.\n",
    "\n",
    "- Show contribution of each feature (interpretable, not a black box).\n",
    "\n",
    "- Provide quick benchmark prices.\n",
    "\n",
    "- Be user-friendly (could even be public like Zillow/Zoopla).\n",
    "\n",
    "3. Key Takeaways\n",
    "\n",
    "- Always start with clear, well-phrased goals.\n",
    "\n",
    "- Need both relevant features and interpretable models.\n",
    "\n",
    "- The “average price” approach works only when no other info is available, but it’s too simplistic for real-world use."
   ]
  },
  {
   "cell_type": "markdown",
   "id": "82a099c4",
   "metadata": {},
   "source": [
    "## It didn't work as expected...\n",
    "### sklearn has removed the boston dataset due to ethical issues.\n",
    "### Here are the notes anyway:\n",
    "\n",
    "1. Data Gathering\n",
    "\n",
    "- After defining the problem, the next step in DS/ML is gathering the data.\n",
    "\n",
    "Typical sources:\n",
    "\n",
    "- Downloading CSVs from online (Google search).\n",
    "\n",
    "- Using practice datasets from Python libraries (e.g., scikit-learn).\n",
    "\n",
    "- Scikit-learn provides clean, user-friendly toy datasets (few missing values, fewer formatting issues).\n",
    "\n",
    "- Examples: Boston housing, Iris (flowers), Diabetes, Digits, Wine, Breast Cancer."
   ]
  },
  {
   "cell_type": "markdown",
   "id": "0cfaa5d1",
   "metadata": {},
   "source": [
    "**Summary:**\n",
    "\n",
    "The second stage in ML is data gathering. Scikit-learn used to offer clean practice datasets like the Boston housing dataset, which contained 506 samples and 13 features. After importing with load_boston, the data was stored in a Bunch object. While raw output was messy, the dataset was available in Jupyter, ready for exploration and preprocessing."
   ]
  },
  {
   "cell_type": "markdown",
   "id": "934a76f4",
   "metadata": {},
   "source": [
    "# CHANGE OF PLANS:\n",
    "### We will use the California housing dataset instead."
   ]
  },
  {
   "cell_type": "markdown",
   "id": "870683ac",
   "metadata": {},
   "source": [
    "# IMPORTING DATASET"
   ]
  },
  {
   "cell_type": "code",
   "execution_count": 2,
   "id": "910dd6e2",
   "metadata": {},
   "outputs": [],
   "source": [
    "from sklearn.datasets import fetch_california_housing\n",
    "housing = fetch_california_housing()"
   ]
  },
  {
   "cell_type": "markdown",
   "id": "a461c371",
   "metadata": {},
   "source": [
    "We can also Add original paper as a clickable link using Markdown [text]\\(URL\\).\n",
    "\n",
    "[Click here to see the original dataset source](https://www.dcc.fc.up.pt/~ltorgo/Regression/cal_housing.html)"
   ]
  },
  {
   "cell_type": "code",
   "execution_count": 3,
   "id": "99eb4062",
   "metadata": {},
   "outputs": [
    {
     "data": {
      "text/plain": [
       "sklearn.utils._bunch.Bunch"
      ]
     },
     "execution_count": 3,
     "metadata": {},
     "output_type": "execute_result"
    }
   ],
   "source": [
    "type(housing) # Note: convert to DataFrame later for easier handling."
   ]
  },
  {
   "cell_type": "code",
   "execution_count": 10,
   "id": "01d28c18",
   "metadata": {},
   "outputs": [
    {
     "data": {
      "text/plain": [
       "{'data': array([[   8.3252    ,   41.        ,    6.98412698, ...,    2.55555556,\n",
       "           37.88      , -122.23      ],\n",
       "        [   8.3014    ,   21.        ,    6.23813708, ...,    2.10984183,\n",
       "           37.86      , -122.22      ],\n",
       "        [   7.2574    ,   52.        ,    8.28813559, ...,    2.80225989,\n",
       "           37.85      , -122.24      ],\n",
       "        ...,\n",
       "        [   1.7       ,   17.        ,    5.20554273, ...,    2.3256351 ,\n",
       "           39.43      , -121.22      ],\n",
       "        [   1.8672    ,   18.        ,    5.32951289, ...,    2.12320917,\n",
       "           39.43      , -121.32      ],\n",
       "        [   2.3886    ,   16.        ,    5.25471698, ...,    2.61698113,\n",
       "           39.37      , -121.24      ]], shape=(20640, 8)),\n",
       " 'target': array([4.526, 3.585, 3.521, ..., 0.923, 0.847, 0.894], shape=(20640,)),\n",
       " 'frame': None,\n",
       " 'target_names': ['MedHouseVal'],\n",
       " 'feature_names': ['MedInc',\n",
       "  'HouseAge',\n",
       "  'AveRooms',\n",
       "  'AveBedrms',\n",
       "  'Population',\n",
       "  'AveOccup',\n",
       "  'Latitude',\n",
       "  'Longitude'],\n",
       " 'DESCR': '.. _california_housing_dataset:\\n\\nCalifornia Housing dataset\\n--------------------------\\n\\n**Data Set Characteristics:**\\n\\n:Number of Instances: 20640\\n\\n:Number of Attributes: 8 numeric, predictive attributes and the target\\n\\n:Attribute Information:\\n    - MedInc        median income in block group\\n    - HouseAge      median house age in block group\\n    - AveRooms      average number of rooms per household\\n    - AveBedrms     average number of bedrooms per household\\n    - Population    block group population\\n    - AveOccup      average number of household members\\n    - Latitude      block group latitude\\n    - Longitude     block group longitude\\n\\n:Missing Attribute Values: None\\n\\nThis dataset was obtained from the StatLib repository.\\nhttps://www.dcc.fc.up.pt/~ltorgo/Regression/cal_housing.html\\n\\nThe target variable is the median house value for California districts,\\nexpressed in hundreds of thousands of dollars ($100,000).\\n\\nThis dataset was derived from the 1990 U.S. census, using one row per census\\nblock group. A block group is the smallest geographical unit for which the U.S.\\nCensus Bureau publishes sample data (a block group typically has a population\\nof 600 to 3,000 people).\\n\\nA household is a group of people residing within a home. Since the average\\nnumber of rooms and bedrooms in this dataset are provided per household, these\\ncolumns may take surprisingly large values for block groups with few households\\nand many empty houses, such as vacation resorts.\\n\\nIt can be downloaded/loaded using the\\n:func:`sklearn.datasets.fetch_california_housing` function.\\n\\n.. rubric:: References\\n\\n- Pace, R. Kelley and Ronald Barry, Sparse Spatial Autoregressions,\\n  Statistics and Probability Letters, 33 (1997) 291-297\\n'}"
      ]
     },
     "execution_count": 10,
     "metadata": {},
     "output_type": "execute_result"
    }
   ],
   "source": [
    "housing"
   ]
  },
  {
   "cell_type": "markdown",
   "id": "548fcc97",
   "metadata": {},
   "source": [
    "1. **Exploring the Dataset**\n",
    "\n",
    "After defining the problem and gathering data, next step = exploring the dataset.\n",
    "\n",
    "Exploration, visualization, and cleaning often happen together (issues only appear once you dig in).\n",
    "\n",
    "Good starting questions for any dataset:\n",
    "\n",
    "- What’s the source of the data?\n",
    "\n",
    "- Is there a description/context of how it was collected?\n",
    "\n",
    "- How many data points (rows)?\n",
    "\n",
    "- How many features (columns)?\n",
    "\n",
    "- What are the names of the features?\n",
    "\n",
    "- What are the descriptions/units of the features?"
   ]
  },
  {
   "cell_type": "code",
   "execution_count": 12,
   "id": "adb94d19",
   "metadata": {},
   "outputs": [
    {
     "data": {
      "text/plain": [
       "['DESCR', 'data', 'feature_names', 'frame', 'target', 'target_names']"
      ]
     },
     "execution_count": 12,
     "metadata": {},
     "output_type": "execute_result"
    }
   ],
   "source": [
    "dir(housing)"
   ]
  },
  {
   "cell_type": "code",
   "execution_count": 16,
   "id": "e7e3c77e",
   "metadata": {},
   "outputs": [
    {
     "name": "stdout",
     "output_type": "stream",
     "text": [
      "<class 'str'>\n",
      ".. _california_housing_dataset:\n",
      "\n",
      "California Housing dataset\n",
      "--------------------------\n",
      "\n",
      "**Data Set Characteristics:**\n",
      "\n",
      ":Number of Instances: 20640\n",
      "\n",
      ":Number of Attributes: 8 numeric, predictive attributes and the target\n",
      "\n",
      ":Attribute Information:\n",
      "    - MedInc        median income in block group\n",
      "    - HouseAge      median house age in block group\n",
      "    - AveRooms      average number of rooms per household\n",
      "    - AveBedrms     average number of bedrooms per household\n",
      "    - Population    block group population\n",
      "    - AveOccup      average number of household members\n",
      "    - Latitude      block group latitude\n",
      "    - Longitude     block group longitude\n",
      "\n",
      ":Missing Attribute Values: None\n",
      "\n",
      "This dataset was obtained from the StatLib repository.\n",
      "https://www.dcc.fc.up.pt/~ltorgo/Regression/cal_housing.html\n",
      "\n",
      "The target variable is the median house value for California districts,\n",
      "expressed in hundreds of thousands of dollars ($100,000).\n",
      "\n",
      "This dataset was derived from the 1990 U.S. census, using one row per census\n",
      "block group. A block group is the smallest geographical unit for which the U.S.\n",
      "Census Bureau publishes sample data (a block group typically has a population\n",
      "of 600 to 3,000 people).\n",
      "\n",
      "A household is a group of people residing within a home. Since the average\n",
      "number of rooms and bedrooms in this dataset are provided per household, these\n",
      "columns may take surprisingly large values for block groups with few households\n",
      "and many empty houses, such as vacation resorts.\n",
      "\n",
      "It can be downloaded/loaded using the\n",
      ":func:`sklearn.datasets.fetch_california_housing` function.\n",
      "\n",
      ".. rubric:: References\n",
      "\n",
      "- Pace, R. Kelley and Ronald Barry, Sparse Spatial Autoregressions,\n",
      "  Statistics and Probability Letters, 33 (1997) 291-297\n",
      "\n"
     ]
    }
   ],
   "source": [
    "print(type(housing.DESCR))\n",
    "print(housing.DESCR)"
   ]
  },
  {
   "cell_type": "code",
   "execution_count": 4,
   "id": "78c6fb28",
   "metadata": {},
   "outputs": [
    {
     "name": "stdout",
     "output_type": "stream",
     "text": [
      "<class 'numpy.ndarray'>\n",
      "(20640, 8)\n",
      "[[   8.3252       41.            6.98412698 ...    2.55555556\n",
      "    37.88       -122.23      ]\n",
      " [   8.3014       21.            6.23813708 ...    2.10984183\n",
      "    37.86       -122.22      ]\n",
      " [   7.2574       52.            8.28813559 ...    2.80225989\n",
      "    37.85       -122.24      ]\n",
      " ...\n",
      " [   1.7          17.            5.20554273 ...    2.3256351\n",
      "    39.43       -121.22      ]\n",
      " [   1.8672       18.            5.32951289 ...    2.12320917\n",
      "    39.43       -121.32      ]\n",
      " [   2.3886       16.            5.25471698 ...    2.61698113\n",
      "    39.37       -121.24      ]]\n"
     ]
    }
   ],
   "source": [
    "print(type(housing.data))\n",
    "print(housing.data.shape)\n",
    "print(housing.data)"
   ]
  },
  {
   "cell_type": "code",
   "execution_count": 18,
   "id": "63c28877",
   "metadata": {},
   "outputs": [
    {
     "name": "stdout",
     "output_type": "stream",
     "text": [
      "<class 'numpy.ndarray'>\n",
      "[4.526 3.585 3.521 ... 0.923 0.847 0.894]\n"
     ]
    }
   ],
   "source": [
    "print(type(housing.target))\n",
    "print(housing.target)"
   ]
  },
  {
   "cell_type": "code",
   "execution_count": 19,
   "id": "ce7ce9bc",
   "metadata": {},
   "outputs": [
    {
     "name": "stdout",
     "output_type": "stream",
     "text": [
      "<class 'list'>\n",
      "['MedInc', 'HouseAge', 'AveRooms', 'AveBedrms', 'Population', 'AveOccup', 'Latitude', 'Longitude']\n"
     ]
    }
   ],
   "source": [
    "print(type(housing.feature_names))\n",
    "print(housing.feature_names)"
   ]
  },
  {
   "cell_type": "code",
   "execution_count": 20,
   "id": "c65ec865",
   "metadata": {},
   "outputs": [
    {
     "name": "stdout",
     "output_type": "stream",
     "text": [
      "<class 'NoneType'>\n",
      "None\n"
     ]
    }
   ],
   "source": [
    "print(type(housing.frame))\n",
    "print(housing.frame)"
   ]
  },
  {
   "cell_type": "markdown",
   "id": "ee89a37a",
   "metadata": {},
   "source": [
    "Dot notation & nesting:\n",
    "\n",
    "- california_housing → Bunch object.\n",
    "\n",
    "- .data → numpy array.\n",
    "\n",
    "- .shape → tuple (rows, columns).\n",
    "\n",
    "- Like Inception, dreams within dreams."
   ]
  },
  {
   "cell_type": "markdown",
   "id": "7a5ea0bc",
   "metadata": {},
   "source": [
    "**Summary:**\n",
    "\n",
    "Exploring a dataset begins with six key questions about its source, size, and features. The California dataset has 2000+ samples and 8 attributes, with context provided by its original research study. Using '.DESCR' and '.shape' in Python helps confirm this information. Data exploration not only reveals structure but also teaches how Python objects nest attributes inside one another."
   ]
  },
  {
   "cell_type": "markdown",
   "id": "f0056245",
   "metadata": {},
   "source": []
  }
 ],
 "metadata": {
  "kernelspec": {
   "display_name": "ml_env",
   "language": "python",
   "name": "python3"
  },
  "language_info": {
   "codemirror_mode": {
    "name": "ipython",
    "version": 3
   },
   "file_extension": ".py",
   "mimetype": "text/x-python",
   "name": "python",
   "nbconvert_exporter": "python",
   "pygments_lexer": "ipython3",
   "version": "3.11.4"
  }
 },
 "nbformat": 4,
 "nbformat_minor": 5
}

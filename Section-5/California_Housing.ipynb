{
 "cells": [
  {
   "cell_type": "markdown",
   "id": "8eccae85",
   "metadata": {},
   "source": [
    "# Notebook Imports"
   ]
  },
  {
   "cell_type": "code",
   "execution_count": 67,
   "id": "6b49149a",
   "metadata": {},
   "outputs": [],
   "source": [
    "import numpy as np\n",
    "import pandas as pd\n",
    "\n",
    "import matplotlib.pyplot as plt\n",
    "%matplotlib inline\n",
    "\n",
    "import seaborn as sns"
   ]
  },
  {
   "cell_type": "code",
   "execution_count": 68,
   "id": "a3fbdd2d",
   "metadata": {},
   "outputs": [],
   "source": [
    "# from sklearn.datasets import load_boston\n",
    "# ImportError: \n",
    "# `load_boston` has been removed from scikit-learn since version 1.2.\n",
    "\n",
    "# In this special case, you can fetch the dataset from the original source:\n",
    "\n",
    "# import pandas as pd\n",
    "# import numpy as np\n",
    "\n",
    "# data_url = \"http://lib.stat.cmu.edu/datasets/boston\"\n",
    "# raw_df = pd.read_csv(data_url, sep=\"\\s+\", skiprows=22, header=None)\n",
    "# data = np.hstack([raw_df.values[::2, :], raw_df.values[1::2, :2]])\n",
    "# target = raw_df.values[1::2, 2]"
   ]
  },
  {
   "cell_type": "code",
   "execution_count": 69,
   "id": "04feb698",
   "metadata": {},
   "outputs": [],
   "source": [
    "# print(type(raw_df))\n",
    "# print(type(data))\n",
    "# print(type(target))\n",
    "\n",
    "# Output:\n",
    "# <class 'pandas.core.frame.DataFrame'>\n",
    "# <class 'numpy.ndarray'>\n",
    "# <class 'numpy.ndarray'>"
   ]
  },
  {
   "cell_type": "markdown",
   "id": "2fbe920d",
   "metadata": {},
   "source": [
    "1. Problem Definition\n",
    "\n",
    "- First step in data science/ML: define the problem clearly and ask the right questions.\n",
    "\n",
    "- Boston housing example: friend asks “How much does a house cost in Boston?” — without more info, the only valid answer is the average home price (~$567,500).\n",
    "\n",
    "- Shows why vague or poorly phrased questions → weak solutions."
   ]
  },
  {
   "cell_type": "markdown",
   "id": "0389831b",
   "metadata": {},
   "source": [
    "2. Real-World Example (Boston Housing)\n",
    "\n",
    "- Factors affecting price: size of house, location (downtown/suburbs), features (rooms, crime, schools, etc.).\n",
    "\n",
    "- Boss’s project: build a valuation tool for real estate agents in Boston.\n",
    "\n",
    "Tool must:\n",
    "\n",
    "- Predict house price based on features.\n",
    "\n",
    "- Show contribution of each feature (interpretable, not a black box).\n",
    "\n",
    "- Provide quick benchmark prices.\n",
    "\n",
    "- Be user-friendly (could even be public like Zillow/Zoopla).\n",
    "\n",
    "3. Key Takeaways\n",
    "\n",
    "- Always start with clear, well-phrased goals.\n",
    "\n",
    "- Need both relevant features and interpretable models.\n",
    "\n",
    "- The “average price” approach works only when no other info is available, but it’s too simplistic for real-world use."
   ]
  },
  {
   "cell_type": "markdown",
   "id": "82a099c4",
   "metadata": {},
   "source": [
    "## It didn't work as expected...\n",
    "### sklearn has removed the boston dataset due to ethical issues.\n",
    "### Here are the notes anyway:\n",
    "\n",
    "1. Data Gathering\n",
    "\n",
    "- After defining the problem, the next step in DS/ML is gathering the data.\n",
    "\n",
    "Typical sources:\n",
    "\n",
    "- Downloading CSVs from online (Google search).\n",
    "\n",
    "- Using practice datasets from Python libraries (e.g., scikit-learn).\n",
    "\n",
    "- Scikit-learn provides clean, user-friendly toy datasets (few missing values, fewer formatting issues).\n",
    "\n",
    "- Examples: Boston housing, Iris (flowers), Diabetes, Digits, Wine, Breast Cancer."
   ]
  },
  {
   "cell_type": "markdown",
   "id": "0cfaa5d1",
   "metadata": {},
   "source": [
    "**Summary:**\n",
    "\n",
    "The second stage in ML is data gathering. Scikit-learn used to offer clean practice datasets like the Boston housing dataset, which contained 506 samples and 13 features. After importing with load_boston, the data was stored in a Bunch object. While raw output was messy, the dataset was available in Jupyter, ready for exploration and preprocessing."
   ]
  },
  {
   "cell_type": "markdown",
   "id": "934a76f4",
   "metadata": {},
   "source": [
    "# CHANGE OF PLANS:\n",
    "### We will use the California housing dataset instead."
   ]
  },
  {
   "cell_type": "markdown",
   "id": "870683ac",
   "metadata": {},
   "source": [
    "# IMPORTING DATASET"
   ]
  },
  {
   "cell_type": "code",
   "execution_count": 70,
   "id": "910dd6e2",
   "metadata": {},
   "outputs": [],
   "source": [
    "from sklearn.datasets import fetch_california_housing\n",
    "housing = fetch_california_housing()"
   ]
  },
  {
   "cell_type": "markdown",
   "id": "a461c371",
   "metadata": {},
   "source": [
    "We can also Add original paper as a clickable link using Markdown [text]\\(URL\\).\n",
    "\n",
    "[Click here to see the original dataset source](https://www.dcc.fc.up.pt/~ltorgo/Regression/cal_housing.html)"
   ]
  },
  {
   "cell_type": "code",
   "execution_count": 71,
   "id": "99eb4062",
   "metadata": {},
   "outputs": [
    {
     "data": {
      "text/plain": [
       "sklearn.utils._bunch.Bunch"
      ]
     },
     "execution_count": 71,
     "metadata": {},
     "output_type": "execute_result"
    }
   ],
   "source": [
    "type(housing) # Note: convert to DataFrame later for easier handling."
   ]
  },
  {
   "cell_type": "code",
   "execution_count": 72,
   "id": "01d28c18",
   "metadata": {},
   "outputs": [
    {
     "data": {
      "text/plain": [
       "{'data': array([[   8.3252    ,   41.        ,    6.98412698, ...,    2.55555556,\n",
       "           37.88      , -122.23      ],\n",
       "        [   8.3014    ,   21.        ,    6.23813708, ...,    2.10984183,\n",
       "           37.86      , -122.22      ],\n",
       "        [   7.2574    ,   52.        ,    8.28813559, ...,    2.80225989,\n",
       "           37.85      , -122.24      ],\n",
       "        ...,\n",
       "        [   1.7       ,   17.        ,    5.20554273, ...,    2.3256351 ,\n",
       "           39.43      , -121.22      ],\n",
       "        [   1.8672    ,   18.        ,    5.32951289, ...,    2.12320917,\n",
       "           39.43      , -121.32      ],\n",
       "        [   2.3886    ,   16.        ,    5.25471698, ...,    2.61698113,\n",
       "           39.37      , -121.24      ]], shape=(20640, 8)),\n",
       " 'target': array([4.526, 3.585, 3.521, ..., 0.923, 0.847, 0.894], shape=(20640,)),\n",
       " 'frame': None,\n",
       " 'target_names': ['MedHouseVal'],\n",
       " 'feature_names': ['MedInc',\n",
       "  'HouseAge',\n",
       "  'AveRooms',\n",
       "  'AveBedrms',\n",
       "  'Population',\n",
       "  'AveOccup',\n",
       "  'Latitude',\n",
       "  'Longitude'],\n",
       " 'DESCR': '.. _california_housing_dataset:\\n\\nCalifornia Housing dataset\\n--------------------------\\n\\n**Data Set Characteristics:**\\n\\n:Number of Instances: 20640\\n\\n:Number of Attributes: 8 numeric, predictive attributes and the target\\n\\n:Attribute Information:\\n    - MedInc        median income in block group\\n    - HouseAge      median house age in block group\\n    - AveRooms      average number of rooms per household\\n    - AveBedrms     average number of bedrooms per household\\n    - Population    block group population\\n    - AveOccup      average number of household members\\n    - Latitude      block group latitude\\n    - Longitude     block group longitude\\n\\n:Missing Attribute Values: None\\n\\nThis dataset was obtained from the StatLib repository.\\nhttps://www.dcc.fc.up.pt/~ltorgo/Regression/cal_housing.html\\n\\nThe target variable is the median house value for California districts,\\nexpressed in hundreds of thousands of dollars ($100,000).\\n\\nThis dataset was derived from the 1990 U.S. census, using one row per census\\nblock group. A block group is the smallest geographical unit for which the U.S.\\nCensus Bureau publishes sample data (a block group typically has a population\\nof 600 to 3,000 people).\\n\\nA household is a group of people residing within a home. Since the average\\nnumber of rooms and bedrooms in this dataset are provided per household, these\\ncolumns may take surprisingly large values for block groups with few households\\nand many empty houses, such as vacation resorts.\\n\\nIt can be downloaded/loaded using the\\n:func:`sklearn.datasets.fetch_california_housing` function.\\n\\n.. rubric:: References\\n\\n- Pace, R. Kelley and Ronald Barry, Sparse Spatial Autoregressions,\\n  Statistics and Probability Letters, 33 (1997) 291-297\\n'}"
      ]
     },
     "execution_count": 72,
     "metadata": {},
     "output_type": "execute_result"
    }
   ],
   "source": [
    "housing"
   ]
  },
  {
   "cell_type": "markdown",
   "id": "548fcc97",
   "metadata": {},
   "source": [
    "1. **Exploring the Dataset**\n",
    "\n",
    "After defining the problem and gathering data, next step = exploring the dataset.\n",
    "\n",
    "Exploration, visualization, and cleaning often happen together (issues only appear once you dig in).\n",
    "\n",
    "Good starting questions for any dataset:\n",
    "\n",
    "- What’s the source of the data?\n",
    "\n",
    "- Is there a description/context of how it was collected?\n",
    "\n",
    "- How many data points (rows)?\n",
    "\n",
    "- How many features (columns)?\n",
    "\n",
    "- What are the names of the features?\n",
    "\n",
    "- What are the descriptions/units of the features?"
   ]
  },
  {
   "cell_type": "code",
   "execution_count": 73,
   "id": "adb94d19",
   "metadata": {},
   "outputs": [
    {
     "data": {
      "text/plain": [
       "['DESCR', 'data', 'feature_names', 'frame', 'target', 'target_names']"
      ]
     },
     "execution_count": 73,
     "metadata": {},
     "output_type": "execute_result"
    }
   ],
   "source": [
    "dir(housing)"
   ]
  },
  {
   "cell_type": "code",
   "execution_count": 74,
   "id": "e7e3c77e",
   "metadata": {},
   "outputs": [
    {
     "name": "stdout",
     "output_type": "stream",
     "text": [
      "<class 'str'>\n",
      ".. _california_housing_dataset:\n",
      "\n",
      "California Housing dataset\n",
      "--------------------------\n",
      "\n",
      "**Data Set Characteristics:**\n",
      "\n",
      ":Number of Instances: 20640\n",
      "\n",
      ":Number of Attributes: 8 numeric, predictive attributes and the target\n",
      "\n",
      ":Attribute Information:\n",
      "    - MedInc        median income in block group\n",
      "    - HouseAge      median house age in block group\n",
      "    - AveRooms      average number of rooms per household\n",
      "    - AveBedrms     average number of bedrooms per household\n",
      "    - Population    block group population\n",
      "    - AveOccup      average number of household members\n",
      "    - Latitude      block group latitude\n",
      "    - Longitude     block group longitude\n",
      "\n",
      ":Missing Attribute Values: None\n",
      "\n",
      "This dataset was obtained from the StatLib repository.\n",
      "https://www.dcc.fc.up.pt/~ltorgo/Regression/cal_housing.html\n",
      "\n",
      "The target variable is the median house value for California districts,\n",
      "expressed in hundreds of thousands of dollars ($100,000).\n",
      "\n",
      "This dataset was derived from the 1990 U.S. census, using one row per census\n",
      "block group. A block group is the smallest geographical unit for which the U.S.\n",
      "Census Bureau publishes sample data (a block group typically has a population\n",
      "of 600 to 3,000 people).\n",
      "\n",
      "A household is a group of people residing within a home. Since the average\n",
      "number of rooms and bedrooms in this dataset are provided per household, these\n",
      "columns may take surprisingly large values for block groups with few households\n",
      "and many empty houses, such as vacation resorts.\n",
      "\n",
      "It can be downloaded/loaded using the\n",
      ":func:`sklearn.datasets.fetch_california_housing` function.\n",
      "\n",
      ".. rubric:: References\n",
      "\n",
      "- Pace, R. Kelley and Ronald Barry, Sparse Spatial Autoregressions,\n",
      "  Statistics and Probability Letters, 33 (1997) 291-297\n",
      "\n"
     ]
    }
   ],
   "source": [
    "print(type(housing.DESCR))\n",
    "print(housing.DESCR)"
   ]
  },
  {
   "cell_type": "code",
   "execution_count": 75,
   "id": "78c6fb28",
   "metadata": {},
   "outputs": [
    {
     "name": "stdout",
     "output_type": "stream",
     "text": [
      "<class 'numpy.ndarray'>\n",
      "(20640, 8)\n",
      "[[   8.3252       41.            6.98412698 ...    2.55555556\n",
      "    37.88       -122.23      ]\n",
      " [   8.3014       21.            6.23813708 ...    2.10984183\n",
      "    37.86       -122.22      ]\n",
      " [   7.2574       52.            8.28813559 ...    2.80225989\n",
      "    37.85       -122.24      ]\n",
      " ...\n",
      " [   1.7          17.            5.20554273 ...    2.3256351\n",
      "    39.43       -121.22      ]\n",
      " [   1.8672       18.            5.32951289 ...    2.12320917\n",
      "    39.43       -121.32      ]\n",
      " [   2.3886       16.            5.25471698 ...    2.61698113\n",
      "    39.37       -121.24      ]]\n"
     ]
    }
   ],
   "source": [
    "print(type(housing.data))\n",
    "print(housing.data.shape)\n",
    "print(housing.data)"
   ]
  },
  {
   "cell_type": "code",
   "execution_count": 76,
   "id": "63c28877",
   "metadata": {},
   "outputs": [
    {
     "name": "stdout",
     "output_type": "stream",
     "text": [
      "<class 'numpy.ndarray'>\n",
      "[4.526 3.585 3.521 ... 0.923 0.847 0.894]\n"
     ]
    }
   ],
   "source": [
    "print(type(housing.target))\n",
    "print(housing.target) \n",
    "\n",
    "# Target (house price) is not in features; found in boston_dataset.target.\n",
    "# Prices look small (24, 21, etc.) → units are in $1000s (e.g., 24 = $24,000)."
   ]
  },
  {
   "cell_type": "code",
   "execution_count": 77,
   "id": "ce7ce9bc",
   "metadata": {},
   "outputs": [
    {
     "name": "stdout",
     "output_type": "stream",
     "text": [
      "<class 'list'>\n",
      "['MedInc', 'HouseAge', 'AveRooms', 'AveBedrms', 'Population', 'AveOccup', 'Latitude', 'Longitude']\n"
     ]
    }
   ],
   "source": [
    "print(type(housing.feature_names))\n",
    "print(housing.feature_names)\n",
    "\n",
    "# boston_dataset.feature_names → prints all feature names (array)."
   ]
  },
  {
   "cell_type": "code",
   "execution_count": 78,
   "id": "c65ec865",
   "metadata": {},
   "outputs": [
    {
     "name": "stdout",
     "output_type": "stream",
     "text": [
      "<class 'NoneType'>\n",
      "None\n"
     ]
    }
   ],
   "source": [
    "print(type(housing.frame))\n",
    "print(housing.frame)"
   ]
  },
  {
   "cell_type": "markdown",
   "id": "ee89a37a",
   "metadata": {},
   "source": [
    "Dot notation & nesting:\n",
    "\n",
    "- california_housing → Bunch object.\n",
    "\n",
    "- .data → numpy array.\n",
    "\n",
    "- .shape → tuple (rows, columns).\n",
    "\n",
    "- Like Inception, dreams within dreams."
   ]
  },
  {
   "cell_type": "markdown",
   "id": "7a5ea0bc",
   "metadata": {},
   "source": [
    "**Summary:**\n",
    "\n",
    "Exploring a dataset begins with six key questions about its source, size, and features. The California dataset has 2000+ samples and 8 attributes, with context provided by its original research study. Using '.DESCR' and '.shape' in Python helps confirm this information. Data exploration not only reveals structure but also teaches how Python objects nest attributes inside one another."
   ]
  },
  {
   "cell_type": "markdown",
   "id": "f0056245",
   "metadata": {},
   "source": [
    "# Continuing Exploration"
   ]
  },
  {
   "cell_type": "markdown",
   "id": "cfcde9a2",
   "metadata": {},
   "source": [
    "### 1. Attributes, Features & Targets\n",
    "\n",
    "Important distinction:\n",
    "\n",
    "- In Python → “attribute” = property of an object.\n",
    "\n",
    "- In ML → “attribute” usually means feature/independent variable (columns in dataset)."
   ]
  },
  {
   "cell_type": "markdown",
   "id": "7859b485",
   "metadata": {},
   "source": [
    "### 2. Converting to Pandas DataFrame\n",
    "\n",
    "Pandas DataFrame = main workhorse in ML/DS."
   ]
  },
  {
   "cell_type": "code",
   "execution_count": 79,
   "id": "c9228d2a",
   "metadata": {},
   "outputs": [],
   "source": [
    "housing_data = pd.DataFrame(data= housing.data, columns= housing.feature_names)\n",
    "housing_data['House Price']= housing.target"
   ]
  },
  {
   "cell_type": "code",
   "execution_count": 80,
   "id": "4b070d78",
   "metadata": {},
   "outputs": [
    {
     "data": {
      "text/html": [
       "<div>\n",
       "<style scoped>\n",
       "    .dataframe tbody tr th:only-of-type {\n",
       "        vertical-align: middle;\n",
       "    }\n",
       "\n",
       "    .dataframe tbody tr th {\n",
       "        vertical-align: top;\n",
       "    }\n",
       "\n",
       "    .dataframe thead th {\n",
       "        text-align: right;\n",
       "    }\n",
       "</style>\n",
       "<table border=\"1\" class=\"dataframe\">\n",
       "  <thead>\n",
       "    <tr style=\"text-align: right;\">\n",
       "      <th></th>\n",
       "      <th>MedInc</th>\n",
       "      <th>HouseAge</th>\n",
       "      <th>AveRooms</th>\n",
       "      <th>AveBedrms</th>\n",
       "      <th>Population</th>\n",
       "      <th>AveOccup</th>\n",
       "      <th>Latitude</th>\n",
       "      <th>Longitude</th>\n",
       "      <th>House Price</th>\n",
       "    </tr>\n",
       "  </thead>\n",
       "  <tbody>\n",
       "    <tr>\n",
       "      <th>0</th>\n",
       "      <td>8.3252</td>\n",
       "      <td>41.0</td>\n",
       "      <td>6.984127</td>\n",
       "      <td>1.023810</td>\n",
       "      <td>322.0</td>\n",
       "      <td>2.555556</td>\n",
       "      <td>37.88</td>\n",
       "      <td>-122.23</td>\n",
       "      <td>4.526</td>\n",
       "    </tr>\n",
       "    <tr>\n",
       "      <th>1</th>\n",
       "      <td>8.3014</td>\n",
       "      <td>21.0</td>\n",
       "      <td>6.238137</td>\n",
       "      <td>0.971880</td>\n",
       "      <td>2401.0</td>\n",
       "      <td>2.109842</td>\n",
       "      <td>37.86</td>\n",
       "      <td>-122.22</td>\n",
       "      <td>3.585</td>\n",
       "    </tr>\n",
       "    <tr>\n",
       "      <th>2</th>\n",
       "      <td>7.2574</td>\n",
       "      <td>52.0</td>\n",
       "      <td>8.288136</td>\n",
       "      <td>1.073446</td>\n",
       "      <td>496.0</td>\n",
       "      <td>2.802260</td>\n",
       "      <td>37.85</td>\n",
       "      <td>-122.24</td>\n",
       "      <td>3.521</td>\n",
       "    </tr>\n",
       "    <tr>\n",
       "      <th>3</th>\n",
       "      <td>5.6431</td>\n",
       "      <td>52.0</td>\n",
       "      <td>5.817352</td>\n",
       "      <td>1.073059</td>\n",
       "      <td>558.0</td>\n",
       "      <td>2.547945</td>\n",
       "      <td>37.85</td>\n",
       "      <td>-122.25</td>\n",
       "      <td>3.413</td>\n",
       "    </tr>\n",
       "    <tr>\n",
       "      <th>4</th>\n",
       "      <td>3.8462</td>\n",
       "      <td>52.0</td>\n",
       "      <td>6.281853</td>\n",
       "      <td>1.081081</td>\n",
       "      <td>565.0</td>\n",
       "      <td>2.181467</td>\n",
       "      <td>37.85</td>\n",
       "      <td>-122.25</td>\n",
       "      <td>3.422</td>\n",
       "    </tr>\n",
       "  </tbody>\n",
       "</table>\n",
       "</div>"
      ],
      "text/plain": [
       "   MedInc  HouseAge  AveRooms  AveBedrms  Population  AveOccup  Latitude  \\\n",
       "0  8.3252      41.0  6.984127   1.023810       322.0  2.555556     37.88   \n",
       "1  8.3014      21.0  6.238137   0.971880      2401.0  2.109842     37.86   \n",
       "2  7.2574      52.0  8.288136   1.073446       496.0  2.802260     37.85   \n",
       "3  5.6431      52.0  5.817352   1.073059       558.0  2.547945     37.85   \n",
       "4  3.8462      52.0  6.281853   1.081081       565.0  2.181467     37.85   \n",
       "\n",
       "   Longitude  House Price  \n",
       "0    -122.23        4.526  \n",
       "1    -122.22        3.585  \n",
       "2    -122.24        3.521  \n",
       "3    -122.25        3.413  \n",
       "4    -122.25        3.422  "
      ]
     },
     "execution_count": 80,
     "metadata": {},
     "output_type": "execute_result"
    }
   ],
   "source": [
    "# Explore DataFrame quickly:\n",
    "housing_data.head()"
   ]
  },
  {
   "cell_type": "code",
   "execution_count": 81,
   "id": "767748c0",
   "metadata": {},
   "outputs": [
    {
     "data": {
      "text/html": [
       "<div>\n",
       "<style scoped>\n",
       "    .dataframe tbody tr th:only-of-type {\n",
       "        vertical-align: middle;\n",
       "    }\n",
       "\n",
       "    .dataframe tbody tr th {\n",
       "        vertical-align: top;\n",
       "    }\n",
       "\n",
       "    .dataframe thead th {\n",
       "        text-align: right;\n",
       "    }\n",
       "</style>\n",
       "<table border=\"1\" class=\"dataframe\">\n",
       "  <thead>\n",
       "    <tr style=\"text-align: right;\">\n",
       "      <th></th>\n",
       "      <th>MedInc</th>\n",
       "      <th>HouseAge</th>\n",
       "      <th>AveRooms</th>\n",
       "      <th>AveBedrms</th>\n",
       "      <th>Population</th>\n",
       "      <th>AveOccup</th>\n",
       "      <th>Latitude</th>\n",
       "      <th>Longitude</th>\n",
       "      <th>House Price</th>\n",
       "    </tr>\n",
       "  </thead>\n",
       "  <tbody>\n",
       "    <tr>\n",
       "      <th>20635</th>\n",
       "      <td>1.5603</td>\n",
       "      <td>25.0</td>\n",
       "      <td>5.045455</td>\n",
       "      <td>1.133333</td>\n",
       "      <td>845.0</td>\n",
       "      <td>2.560606</td>\n",
       "      <td>39.48</td>\n",
       "      <td>-121.09</td>\n",
       "      <td>0.781</td>\n",
       "    </tr>\n",
       "    <tr>\n",
       "      <th>20636</th>\n",
       "      <td>2.5568</td>\n",
       "      <td>18.0</td>\n",
       "      <td>6.114035</td>\n",
       "      <td>1.315789</td>\n",
       "      <td>356.0</td>\n",
       "      <td>3.122807</td>\n",
       "      <td>39.49</td>\n",
       "      <td>-121.21</td>\n",
       "      <td>0.771</td>\n",
       "    </tr>\n",
       "    <tr>\n",
       "      <th>20637</th>\n",
       "      <td>1.7000</td>\n",
       "      <td>17.0</td>\n",
       "      <td>5.205543</td>\n",
       "      <td>1.120092</td>\n",
       "      <td>1007.0</td>\n",
       "      <td>2.325635</td>\n",
       "      <td>39.43</td>\n",
       "      <td>-121.22</td>\n",
       "      <td>0.923</td>\n",
       "    </tr>\n",
       "    <tr>\n",
       "      <th>20638</th>\n",
       "      <td>1.8672</td>\n",
       "      <td>18.0</td>\n",
       "      <td>5.329513</td>\n",
       "      <td>1.171920</td>\n",
       "      <td>741.0</td>\n",
       "      <td>2.123209</td>\n",
       "      <td>39.43</td>\n",
       "      <td>-121.32</td>\n",
       "      <td>0.847</td>\n",
       "    </tr>\n",
       "    <tr>\n",
       "      <th>20639</th>\n",
       "      <td>2.3886</td>\n",
       "      <td>16.0</td>\n",
       "      <td>5.254717</td>\n",
       "      <td>1.162264</td>\n",
       "      <td>1387.0</td>\n",
       "      <td>2.616981</td>\n",
       "      <td>39.37</td>\n",
       "      <td>-121.24</td>\n",
       "      <td>0.894</td>\n",
       "    </tr>\n",
       "  </tbody>\n",
       "</table>\n",
       "</div>"
      ],
      "text/plain": [
       "       MedInc  HouseAge  AveRooms  AveBedrms  Population  AveOccup  Latitude  \\\n",
       "20635  1.5603      25.0  5.045455   1.133333       845.0  2.560606     39.48   \n",
       "20636  2.5568      18.0  6.114035   1.315789       356.0  3.122807     39.49   \n",
       "20637  1.7000      17.0  5.205543   1.120092      1007.0  2.325635     39.43   \n",
       "20638  1.8672      18.0  5.329513   1.171920       741.0  2.123209     39.43   \n",
       "20639  2.3886      16.0  5.254717   1.162264      1387.0  2.616981     39.37   \n",
       "\n",
       "       Longitude  House Price  \n",
       "20635    -121.09        0.781  \n",
       "20636    -121.21        0.771  \n",
       "20637    -121.22        0.923  \n",
       "20638    -121.32        0.847  \n",
       "20639    -121.24        0.894  "
      ]
     },
     "execution_count": 81,
     "metadata": {},
     "output_type": "execute_result"
    }
   ],
   "source": [
    "housing_data.tail()\n"
   ]
  },
  {
   "cell_type": "code",
   "execution_count": 82,
   "id": "1315b1eb",
   "metadata": {},
   "outputs": [
    {
     "data": {
      "text/plain": [
       "MedInc         20640\n",
       "HouseAge       20640\n",
       "AveRooms       20640\n",
       "AveBedrms      20640\n",
       "Population     20640\n",
       "AveOccup       20640\n",
       "Latitude       20640\n",
       "Longitude      20640\n",
       "House Price    20640\n",
       "dtype: int64"
      ]
     },
     "execution_count": 82,
     "metadata": {},
     "output_type": "execute_result"
    }
   ],
   "source": [
    "housing_data.count()"
   ]
  },
  {
   "cell_type": "markdown",
   "id": "4e3152aa",
   "metadata": {},
   "source": [
    "### Vocabulary check:\n",
    "\n",
    "Instance (ML) = a row/data point.\n",
    "\n",
    "Instance (programming) = an object of a class."
   ]
  },
  {
   "cell_type": "markdown",
   "id": "9a8dd398",
   "metadata": {},
   "source": [
    "## 3. Checking for Missing Values\n",
    "\n",
    "Why? ML algorithms break if fed missing data."
   ]
  },
  {
   "cell_type": "code",
   "execution_count": 83,
   "id": "210e90db",
   "metadata": {},
   "outputs": [
    {
     "data": {
      "text/html": [
       "<div>\n",
       "<style scoped>\n",
       "    .dataframe tbody tr th:only-of-type {\n",
       "        vertical-align: middle;\n",
       "    }\n",
       "\n",
       "    .dataframe tbody tr th {\n",
       "        vertical-align: top;\n",
       "    }\n",
       "\n",
       "    .dataframe thead th {\n",
       "        text-align: right;\n",
       "    }\n",
       "</style>\n",
       "<table border=\"1\" class=\"dataframe\">\n",
       "  <thead>\n",
       "    <tr style=\"text-align: right;\">\n",
       "      <th></th>\n",
       "      <th>MedInc</th>\n",
       "      <th>HouseAge</th>\n",
       "      <th>AveRooms</th>\n",
       "      <th>AveBedrms</th>\n",
       "      <th>Population</th>\n",
       "      <th>AveOccup</th>\n",
       "      <th>Latitude</th>\n",
       "      <th>Longitude</th>\n",
       "      <th>House Price</th>\n",
       "    </tr>\n",
       "  </thead>\n",
       "  <tbody>\n",
       "    <tr>\n",
       "      <th>0</th>\n",
       "      <td>False</td>\n",
       "      <td>False</td>\n",
       "      <td>False</td>\n",
       "      <td>False</td>\n",
       "      <td>False</td>\n",
       "      <td>False</td>\n",
       "      <td>False</td>\n",
       "      <td>False</td>\n",
       "      <td>False</td>\n",
       "    </tr>\n",
       "    <tr>\n",
       "      <th>1</th>\n",
       "      <td>False</td>\n",
       "      <td>False</td>\n",
       "      <td>False</td>\n",
       "      <td>False</td>\n",
       "      <td>False</td>\n",
       "      <td>False</td>\n",
       "      <td>False</td>\n",
       "      <td>False</td>\n",
       "      <td>False</td>\n",
       "    </tr>\n",
       "    <tr>\n",
       "      <th>2</th>\n",
       "      <td>False</td>\n",
       "      <td>False</td>\n",
       "      <td>False</td>\n",
       "      <td>False</td>\n",
       "      <td>False</td>\n",
       "      <td>False</td>\n",
       "      <td>False</td>\n",
       "      <td>False</td>\n",
       "      <td>False</td>\n",
       "    </tr>\n",
       "    <tr>\n",
       "      <th>3</th>\n",
       "      <td>False</td>\n",
       "      <td>False</td>\n",
       "      <td>False</td>\n",
       "      <td>False</td>\n",
       "      <td>False</td>\n",
       "      <td>False</td>\n",
       "      <td>False</td>\n",
       "      <td>False</td>\n",
       "      <td>False</td>\n",
       "    </tr>\n",
       "    <tr>\n",
       "      <th>4</th>\n",
       "      <td>False</td>\n",
       "      <td>False</td>\n",
       "      <td>False</td>\n",
       "      <td>False</td>\n",
       "      <td>False</td>\n",
       "      <td>False</td>\n",
       "      <td>False</td>\n",
       "      <td>False</td>\n",
       "      <td>False</td>\n",
       "    </tr>\n",
       "    <tr>\n",
       "      <th>...</th>\n",
       "      <td>...</td>\n",
       "      <td>...</td>\n",
       "      <td>...</td>\n",
       "      <td>...</td>\n",
       "      <td>...</td>\n",
       "      <td>...</td>\n",
       "      <td>...</td>\n",
       "      <td>...</td>\n",
       "      <td>...</td>\n",
       "    </tr>\n",
       "    <tr>\n",
       "      <th>20635</th>\n",
       "      <td>False</td>\n",
       "      <td>False</td>\n",
       "      <td>False</td>\n",
       "      <td>False</td>\n",
       "      <td>False</td>\n",
       "      <td>False</td>\n",
       "      <td>False</td>\n",
       "      <td>False</td>\n",
       "      <td>False</td>\n",
       "    </tr>\n",
       "    <tr>\n",
       "      <th>20636</th>\n",
       "      <td>False</td>\n",
       "      <td>False</td>\n",
       "      <td>False</td>\n",
       "      <td>False</td>\n",
       "      <td>False</td>\n",
       "      <td>False</td>\n",
       "      <td>False</td>\n",
       "      <td>False</td>\n",
       "      <td>False</td>\n",
       "    </tr>\n",
       "    <tr>\n",
       "      <th>20637</th>\n",
       "      <td>False</td>\n",
       "      <td>False</td>\n",
       "      <td>False</td>\n",
       "      <td>False</td>\n",
       "      <td>False</td>\n",
       "      <td>False</td>\n",
       "      <td>False</td>\n",
       "      <td>False</td>\n",
       "      <td>False</td>\n",
       "    </tr>\n",
       "    <tr>\n",
       "      <th>20638</th>\n",
       "      <td>False</td>\n",
       "      <td>False</td>\n",
       "      <td>False</td>\n",
       "      <td>False</td>\n",
       "      <td>False</td>\n",
       "      <td>False</td>\n",
       "      <td>False</td>\n",
       "      <td>False</td>\n",
       "      <td>False</td>\n",
       "    </tr>\n",
       "    <tr>\n",
       "      <th>20639</th>\n",
       "      <td>False</td>\n",
       "      <td>False</td>\n",
       "      <td>False</td>\n",
       "      <td>False</td>\n",
       "      <td>False</td>\n",
       "      <td>False</td>\n",
       "      <td>False</td>\n",
       "      <td>False</td>\n",
       "      <td>False</td>\n",
       "    </tr>\n",
       "  </tbody>\n",
       "</table>\n",
       "<p>20640 rows × 9 columns</p>\n",
       "</div>"
      ],
      "text/plain": [
       "       MedInc  HouseAge  AveRooms  AveBedrms  Population  AveOccup  Latitude  \\\n",
       "0       False     False     False      False       False     False     False   \n",
       "1       False     False     False      False       False     False     False   \n",
       "2       False     False     False      False       False     False     False   \n",
       "3       False     False     False      False       False     False     False   \n",
       "4       False     False     False      False       False     False     False   \n",
       "...       ...       ...       ...        ...         ...       ...       ...   \n",
       "20635   False     False     False      False       False     False     False   \n",
       "20636   False     False     False      False       False     False     False   \n",
       "20637   False     False     False      False       False     False     False   \n",
       "20638   False     False     False      False       False     False     False   \n",
       "20639   False     False     False      False       False     False     False   \n",
       "\n",
       "       Longitude  House Price  \n",
       "0          False        False  \n",
       "1          False        False  \n",
       "2          False        False  \n",
       "3          False        False  \n",
       "4          False        False  \n",
       "...          ...          ...  \n",
       "20635      False        False  \n",
       "20636      False        False  \n",
       "20637      False        False  \n",
       "20638      False        False  \n",
       "20639      False        False  \n",
       "\n",
       "[20640 rows x 9 columns]"
      ]
     },
     "execution_count": 83,
     "metadata": {},
     "output_type": "execute_result"
    }
   ],
   "source": [
    "# pandas tools:\n",
    "pd.isnull(housing_data)"
   ]
  },
  {
   "cell_type": "code",
   "execution_count": 84,
   "id": "cf664d24",
   "metadata": {},
   "outputs": [
    {
     "data": {
      "text/plain": [
       "MedInc         False\n",
       "HouseAge       False\n",
       "AveRooms       False\n",
       "AveBedrms      False\n",
       "Population     False\n",
       "AveOccup       False\n",
       "Latitude       False\n",
       "Longitude      False\n",
       "House Price    False\n",
       "dtype: bool"
      ]
     },
     "execution_count": 84,
     "metadata": {},
     "output_type": "execute_result"
    }
   ],
   "source": [
    "pd.isnull(housing_data).any() # better way"
   ]
  },
  {
   "cell_type": "code",
   "execution_count": 85,
   "id": "e4b45248",
   "metadata": {},
   "outputs": [
    {
     "name": "stdout",
     "output_type": "stream",
     "text": [
      "<class 'pandas.core.frame.DataFrame'>\n",
      "RangeIndex: 20640 entries, 0 to 20639\n",
      "Data columns (total 9 columns):\n",
      " #   Column       Non-Null Count  Dtype  \n",
      "---  ------       --------------  -----  \n",
      " 0   MedInc       20640 non-null  float64\n",
      " 1   HouseAge     20640 non-null  float64\n",
      " 2   AveRooms     20640 non-null  float64\n",
      " 3   AveBedrms    20640 non-null  float64\n",
      " 4   Population   20640 non-null  float64\n",
      " 5   AveOccup     20640 non-null  float64\n",
      " 6   Latitude     20640 non-null  float64\n",
      " 7   Longitude    20640 non-null  float64\n",
      " 8   House Price  20640 non-null  float64\n",
      "dtypes: float64(9)\n",
      "memory usage: 1.4 MB\n"
     ]
    }
   ],
   "source": [
    "housing_data.info() # more details with a single command"
   ]
  },
  {
   "cell_type": "markdown",
   "id": "4406dcf5",
   "metadata": {},
   "source": [
    "**Summary:**\n",
    "\n",
    "This lesson clarified the meaning of attributes/features in ML, showed how to extract feature names and targets, and converted the California dataset into a Pandas DataFrame for easier work. We practiced quick exploration with .head(), .tail(), .count(), and checked for missing values using isnull() and info(). Good news: the dataset has no missing values, so we’re ready to start digging into feature meanings."
   ]
  },
  {
   "cell_type": "markdown",
   "id": "c7ec1510",
   "metadata": {},
   "source": [
    "## 1. Why Visualize Data?\n",
    "\n",
    "Visualization helps at exploration stage, not just final reporting.\n",
    "\n",
    "Two main goals when exploring:\n",
    "\n",
    "- Understand distribution of variables.\n",
    "\n",
    "- Spot outliers (values far from the rest)."
   ]
  },
  {
   "cell_type": "markdown",
   "id": "4bff306c",
   "metadata": {},
   "source": [
    "### First visualization tool:\n",
    "### Histogram (bar chart showing frequency of values).\n",
    "\n",
    "A “normal distribution” looks like a bell curve; real-world data (like California house prices) is usually messier with outliers."
   ]
  },
  {
   "cell_type": "markdown",
   "id": "61a0e2f9",
   "metadata": {},
   "source": [
    "### 2. Creating Histograms with Matplotlib"
   ]
  },
  {
   "cell_type": "code",
   "execution_count": 111,
   "id": "e095b6b3",
   "metadata": {},
   "outputs": [
    {
     "data": {
      "image/png": "[encoded data removed]",
      "text/plain": [
       "<Figure size 1200x800 with 1 Axes>"
      ]
     },
     "metadata": {},
     "output_type": "display_data"
    }
   ],
   "source": [
    "plt.style.use('fivethirtyeight')\n",
    "plt.figure(figsize=(15, 10))\n",
    "plt.hist(housing_data[\"House Price\"], bins= 50, ec= 'black', color= 'steelblue') # customization\n",
    "plt.xlabel(\"Price in $100,000s\")\n",
    "plt.ylabel(\"No. of houses\")\n",
    "\n",
    "plt.show()"
   ]
  },
  {
   "cell_type": "markdown",
   "id": "160e0b40",
   "metadata": {},
   "source": [
    "### 3. Key Insights & Next Steps\n",
    "\n",
    "- Histogram of prices = uneven distribution with clear outliers (very high house values).\n",
    "\n",
    "- Good reminder: real-world data ≠ neat bell curve.\n",
    "\n",
    "- Ronald Reagan quote: “Trust but verify” → always check visuals yourself.\n",
    "\n",
    "- Matplotlib works, but there are other libraries for visualization → next up is Seaborn."
   ]
  },
  {
   "cell_type": "markdown",
   "id": "08886d08",
   "metadata": {},
   "source": [
    "**Summary:**\n",
    "\n",
    "Histograms are the first visualization step in data exploration. They reveal data distributions and highlight outliers, making them essential before modeling. Using matplotlib, we can plot, style, and label histograms of house prices. The Boston housing data shows a skewed distribution with high-value outliers, reminding us that real-world data rarely follows perfect statistical patterns."
   ]
  },
  {
   "cell_type": "markdown",
   "id": "3dde1618",
   "metadata": {},
   "source": [
    "## 1. Seaborn Basics\n",
    "\n",
    "Seaborn = built on matplotlib, but with extra features and prettier defaults."
   ]
  },
  {
   "cell_type": "code",
   "execution_count": 117,
   "id": "b9f642ce",
   "metadata": {},
   "outputs": [
    {
     "data": {
      "image/png": "[encoded data removed]",
      "text/plain": [
       "<Figure size 1280x800 with 1 Axes>"
      ]
     },
     "metadata": {},
     "output_type": "display_data"
    }
   ],
   "source": [
    "# plt.figure(figsize=(16, 10))\n",
    "# sns.displot(housing_data[\"House Price\"], kde= True, ec= 'None')\n",
    "# plt.show()\n",
    "\n",
    "# histogram + probability density function (PDF)\n",
    "\n",
    "plt.figure(figsize=(16, 10))\n",
    "sns.histplot(data=housing_data, x=\"House Price\", kde=True, ec='None')\n",
    "plt.show()"
   ]
  },
  {
   "cell_type": "markdown",
   "id": "65eafa4a",
   "metadata": {},
   "source": [
    "### 2. Comparing Features\n",
    "\n",
    "Explore Average Rooms"
   ]
  },
  {
   "cell_type": "code",
   "execution_count": 124,
   "id": "912b4753",
   "metadata": {},
   "outputs": [
    {
     "data": {
      "image/png": "[encoded data removed]",
      "text/plain": [
       "<Figure size 1280x800 with 1 Axes>"
      ]
     },
     "metadata": {},
     "output_type": "display_data"
    }
   ],
   "source": [
    "plt.figure(figsize=(16, 10))\n",
    "sns.histplot(housing_data[\"AveRooms\"], kde= True,\n",
    "             color=\"#008080\")  # teal\n",
    "plt.xlabel(\"Average number of rooms\")\n",
    "plt.ylabel(\"No. of houses\")\n",
    "plt.xlim(0, 15)\n",
    "plt.show()"
   ]
  },
  {
   "cell_type": "markdown",
   "id": "d9dad1dc",
   "metadata": {},
   "source": [
    "Histogram shows peak around 5-6 rooms.\n",
    "\n",
    "Exact calculation:"
   ]
  },
  {
   "cell_type": "code",
   "execution_count": 89,
   "id": "e40365c4",
   "metadata": {},
   "outputs": [
    {
     "name": "stdout",
     "output_type": "stream",
     "text": [
      "5.428999742190376\n"
     ]
    }
   ],
   "source": [
    "print(housing_data[\"AveRooms\"].mean())"
   ]
  },
  {
   "cell_type": "code",
   "execution_count": 90,
   "id": "29964f0b",
   "metadata": {},
   "outputs": [
    {
     "name": "stdout",
     "output_type": "stream",
     "text": [
      "0.8461538461538461\n"
     ]
    }
   ],
   "source": [
    "print(housing_data[\"AveRooms\"].min())"
   ]
  },
  {
   "cell_type": "code",
   "execution_count": 91,
   "id": "a0a1de05",
   "metadata": {},
   "outputs": [
    {
     "name": "stdout",
     "output_type": "stream",
     "text": [
      "141.9090909090909\n"
     ]
    }
   ],
   "source": [
    "print(housing_data[\"AveRooms\"].max())"
   ]
  },
  {
   "cell_type": "markdown",
   "id": "32fe7436",
   "metadata": {},
   "source": [
    "### 3. Key Insights & Next Steps\n",
    "\n",
    "- Seaborn makes visualization simpler and more informative (with PDF overlay).\n",
    "\n",
    "- Distribution of PRICE: messy, skewed, outliers.\n",
    "\n",
    "- Distribution of AvgRM: centered around 5-6 rooms, mean = 5.4...\n",
    "\n",
    "- Combining visual inspection (histograms) + statistical summaries (mean) = stronger understanding of features."
   ]
  },
  {
   "cell_type": "markdown",
   "id": "20013ea9",
   "metadata": {},
   "source": [
    "**Summary:**\n",
    "\n",
    "Seaborn builds on matplotlib, offering easier syntax and attractive defaults like adding PDFs to histograms. By exploring the RM feature, we see Boston homes average about 6.28 rooms. Together, visualizations and summary statistics help confirm insights about dataset features, preparing us for deeper analysis."
   ]
  },
  {
   "cell_type": "markdown",
   "id": "8aad6ce5",
   "metadata": {},
   "source": []
  },
  {
   "cell_type": "code",
   "execution_count": 92,
   "id": "fc742822",
   "metadata": {},
   "outputs": [
    {
     "data": {
      "text/html": [
       "<div>\n",
       "<style scoped>\n",
       "    .dataframe tbody tr th:only-of-type {\n",
       "        vertical-align: middle;\n",
       "    }\n",
       "\n",
       "    .dataframe tbody tr th {\n",
       "        vertical-align: top;\n",
       "    }\n",
       "\n",
       "    .dataframe thead th {\n",
       "        text-align: right;\n",
       "    }\n",
       "</style>\n",
       "<table border=\"1\" class=\"dataframe\">\n",
       "  <thead>\n",
       "    <tr style=\"text-align: right;\">\n",
       "      <th></th>\n",
       "      <th>MedInc</th>\n",
       "      <th>HouseAge</th>\n",
       "      <th>AveRooms</th>\n",
       "      <th>AveBedrms</th>\n",
       "      <th>Population</th>\n",
       "      <th>AveOccup</th>\n",
       "      <th>Latitude</th>\n",
       "      <th>Longitude</th>\n",
       "      <th>House Price</th>\n",
       "    </tr>\n",
       "  </thead>\n",
       "  <tbody>\n",
       "    <tr>\n",
       "      <th>0</th>\n",
       "      <td>8.3252</td>\n",
       "      <td>41.0</td>\n",
       "      <td>6.984127</td>\n",
       "      <td>1.023810</td>\n",
       "      <td>322.0</td>\n",
       "      <td>2.555556</td>\n",
       "      <td>37.88</td>\n",
       "      <td>-122.23</td>\n",
       "      <td>4.526</td>\n",
       "    </tr>\n",
       "    <tr>\n",
       "      <th>1</th>\n",
       "      <td>8.3014</td>\n",
       "      <td>21.0</td>\n",
       "      <td>6.238137</td>\n",
       "      <td>0.971880</td>\n",
       "      <td>2401.0</td>\n",
       "      <td>2.109842</td>\n",
       "      <td>37.86</td>\n",
       "      <td>-122.22</td>\n",
       "      <td>3.585</td>\n",
       "    </tr>\n",
       "    <tr>\n",
       "      <th>2</th>\n",
       "      <td>7.2574</td>\n",
       "      <td>52.0</td>\n",
       "      <td>8.288136</td>\n",
       "      <td>1.073446</td>\n",
       "      <td>496.0</td>\n",
       "      <td>2.802260</td>\n",
       "      <td>37.85</td>\n",
       "      <td>-122.24</td>\n",
       "      <td>3.521</td>\n",
       "    </tr>\n",
       "    <tr>\n",
       "      <th>3</th>\n",
       "      <td>5.6431</td>\n",
       "      <td>52.0</td>\n",
       "      <td>5.817352</td>\n",
       "      <td>1.073059</td>\n",
       "      <td>558.0</td>\n",
       "      <td>2.547945</td>\n",
       "      <td>37.85</td>\n",
       "      <td>-122.25</td>\n",
       "      <td>3.413</td>\n",
       "    </tr>\n",
       "    <tr>\n",
       "      <th>4</th>\n",
       "      <td>3.8462</td>\n",
       "      <td>52.0</td>\n",
       "      <td>6.281853</td>\n",
       "      <td>1.081081</td>\n",
       "      <td>565.0</td>\n",
       "      <td>2.181467</td>\n",
       "      <td>37.85</td>\n",
       "      <td>-122.25</td>\n",
       "      <td>3.422</td>\n",
       "    </tr>\n",
       "  </tbody>\n",
       "</table>\n",
       "</div>"
      ],
      "text/plain": [
       "   MedInc  HouseAge  AveRooms  AveBedrms  Population  AveOccup  Latitude  \\\n",
       "0  8.3252      41.0  6.984127   1.023810       322.0  2.555556     37.88   \n",
       "1  8.3014      21.0  6.238137   0.971880      2401.0  2.109842     37.86   \n",
       "2  7.2574      52.0  8.288136   1.073446       496.0  2.802260     37.85   \n",
       "3  5.6431      52.0  5.817352   1.073059       558.0  2.547945     37.85   \n",
       "4  3.8462      52.0  6.281853   1.081081       565.0  2.181467     37.85   \n",
       "\n",
       "   Longitude  House Price  \n",
       "0    -122.23        4.526  \n",
       "1    -122.22        3.585  \n",
       "2    -122.24        3.521  \n",
       "3    -122.25        3.413  \n",
       "4    -122.25        3.422  "
      ]
     },
     "execution_count": 92,
     "metadata": {},
     "output_type": "execute_result"
    }
   ],
   "source": [
    "housing_data.head()"
   ]
  },
  {
   "cell_type": "markdown",
   "id": "5b3d43b2",
   "metadata": {},
   "source": [
    "## 1. Exploring the HouseAge Feature\n",
    "\n",
    "First attempt: histogram looked odd (automatic binning hid info)."
   ]
  },
  {
   "cell_type": "code",
   "execution_count": 125,
   "id": "98f3e1b1",
   "metadata": {},
   "outputs": [
    {
     "data": {
      "image/png": "[encoded data removed]",
      "text/plain": [
       "<Figure size 1280x800 with 1 Axes>"
      ]
     },
     "metadata": {},
     "output_type": "display_data"
    }
   ],
   "source": [
    "plt.figure(figsize=(16, 10))\n",
    "plt.hist(housing_data[\"HouseAge\"], ec= 'black', color= \"#a200ff\", rwidth= 0.8)\n",
    "plt.xlabel(\"Median house age in block group\")\n",
    "plt.ylabel(\"No. of houses\")\n",
    "\n",
    "plt.show()"
   ]
  },
  {
   "cell_type": "code",
   "execution_count": 94,
   "id": "1767a7a4",
   "metadata": {},
   "outputs": [
    {
     "name": "stdout",
     "output_type": "stream",
     "text": [
      "HouseAge\n",
      "52.0    1273\n",
      "36.0     862\n",
      "35.0     824\n",
      "16.0     771\n",
      "17.0     698\n",
      "34.0     689\n",
      "26.0     619\n",
      "33.0     615\n",
      "18.0     570\n",
      "25.0     566\n",
      "32.0     565\n",
      "37.0     537\n",
      "15.0     512\n",
      "19.0     502\n",
      "27.0     488\n",
      "24.0     478\n",
      "30.0     476\n",
      "28.0     471\n",
      "20.0     465\n",
      "29.0     461\n",
      "31.0     458\n",
      "23.0     448\n",
      "21.0     446\n",
      "14.0     412\n",
      "22.0     399\n",
      "38.0     394\n",
      "39.0     369\n",
      "42.0     368\n",
      "44.0     356\n",
      "43.0     353\n",
      "40.0     304\n",
      "13.0     302\n",
      "41.0     296\n",
      "45.0     294\n",
      "10.0     264\n",
      "11.0     254\n",
      "46.0     245\n",
      "5.0      244\n",
      "12.0     238\n",
      "8.0      206\n",
      "9.0      205\n",
      "47.0     198\n",
      "4.0      191\n",
      "48.0     177\n",
      "7.0      175\n",
      "6.0      160\n",
      "50.0     136\n",
      "49.0     134\n",
      "3.0       62\n",
      "2.0       58\n",
      "51.0      48\n",
      "1.0        4\n",
      "Name: count, dtype: int64\n"
     ]
    }
   ],
   "source": [
    "freq = housing_data[\"HouseAge\"].value_counts() # Shows frequency of each HouseAge value.\n",
    "print(freq)"
   ]
  },
  {
   "cell_type": "code",
   "execution_count": 126,
   "id": "9c0b781d",
   "metadata": {},
   "outputs": [
    {
     "data": {
      "image/png": "[encoded data removed]",
      "text/plain": [
       "<Figure size 1280x800 with 1 Axes>"
      ]
     },
     "metadata": {},
     "output_type": "display_data"
    }
   ],
   "source": [
    "# Fix: specify bins to match index values:\n",
    "plt.figure(figsize=(16, 10))\n",
    "plt.hist(housing_data[\"HouseAge\"], bins=52, color=\"#6A0DAD\", rwidth=0.5)  # royal purple\n",
    "plt.xlabel(\"Median house age in block group\")\n",
    "plt.ylabel(\"No. of houses\")\n",
    "\n",
    "plt.show()"
   ]
  },
  {
   "cell_type": "markdown",
   "id": "24938ecf",
   "metadata": {},
   "source": [
    "### 2. Bar Charts with Matplotlib\n",
    "\n",
    "Created bar chart using value counts for flexibility\n",
    "\n",
    "Advantage: no need to hardcode number of bins."
   ]
  },
  {
   "cell_type": "code",
   "execution_count": 127,
   "id": "878b6ab3",
   "metadata": {},
   "outputs": [
    {
     "data": {
      "image/png": "[encoded data removed]",
      "text/plain": [
       "<Figure size 1280x800 with 1 Axes>"
      ]
     },
     "metadata": {},
     "output_type": "display_data"
    }
   ],
   "source": [
    "plt.figure(figsize=(16,10))\n",
    "plt.bar(freq.index, freq, color=\"#6A0DAD\")\n",
    "plt.xlabel(\"Age of the House\")\n",
    "plt.ylabel(\"Number of Properties\")\n",
    "plt.show()"
   ]
  },
  {
   "cell_type": "markdown",
   "id": "125c4cdc",
   "metadata": {},
   "source": [
    "### 3. CHAS Feature (Charles River Dummy Variable)\n",
    "### was for Boston housing dataset\n",
    "\n",
    "CHAS = dummy variable (binary):\n",
    "\n",
    "1 = property bounds Charles River.\n",
    "\n",
    "0 = property not on river.\n",
    "\n",
    "Count with:\n",
    "\n",
    "data[\"CHAS\"].value_counts()\n",
    "\n",
    "\n",
    "Output: 35 properties on river (CHAS=1), rest not.\n",
    "\n",
    "Dummy variables capture binary info (e.g., yes/no, male/female, employed/unemployed)."
   ]
  },
  {
   "cell_type": "markdown",
   "id": "cb36f2c3",
   "metadata": {},
   "source": [
    "**Summary:**\n",
    "\n",
    "We explored RAD, an index feature, and learned that histograms need tailored bins when working with discrete values. Using value_counts() + bar charts provides a flexible alternative to histograms. We also introduced CHAS, a dummy variable for riverfront properties, finding 35 such cases. Indexes and dummy variables are powerful tools for encoding categorical or binary data in ML."
   ]
  },
  {
   "cell_type": "markdown",
   "id": "b645f231",
   "metadata": {},
   "source": [
    "## 1. Why Descriptive Statistics Matter\n",
    "\n",
    "Complement visualizations with summary statistics.\n",
    "\n",
    "Politician story:\n",
    "\n",
    "- Mean (average) = total ÷ count, influenced by outliers.\n",
    "\n",
    "- Median = middle value when sorted, resistant to outliers.\n",
    "\n",
    "Both can give different pictures depending on distribution shape.\n",
    "\n",
    "- Normal distribution: mean ≈ median.\n",
    "\n",
    "- Skewed distribution: mean pulled toward outliers (e.g., a few ultra-wealthy families)."
   ]
  },
  {
   "cell_type": "markdown",
   "id": "8c44b3c1",
   "metadata": {},
   "source": [
    "### 2. Pandas Methods for Statistics"
   ]
  },
  {
   "cell_type": "code",
   "execution_count": 97,
   "id": "12f0377b",
   "metadata": {},
   "outputs": [
    {
     "name": "stdout",
     "output_type": "stream",
     "text": [
      "$ 14999.0\n",
      "$ 500001.0\n"
     ]
    }
   ],
   "source": [
    "# single column\n",
    "print(\"$\", round(housing_data[\"House Price\"].min() * 100000, 3))\n",
    "print(\"$\", round(housing_data[\"House Price\"].max() * 100000, 3))"
   ]
  },
  {
   "cell_type": "code",
   "execution_count": 98,
   "id": "d55e8545",
   "metadata": {},
   "outputs": [
    {
     "name": "stdout",
     "output_type": "stream",
     "text": [
      "MedInc           0.499900\n",
      "HouseAge         1.000000\n",
      "AveRooms         0.846154\n",
      "AveBedrms        0.333333\n",
      "Population       3.000000\n",
      "AveOccup         0.692308\n",
      "Latitude        32.540000\n",
      "Longitude     -124.350000\n",
      "House Price      0.149990\n",
      "dtype: float64 \n",
      "\n",
      "MedInc            15.000100\n",
      "HouseAge          52.000000\n",
      "AveRooms         141.909091\n",
      "AveBedrms         34.066667\n",
      "Population     35682.000000\n",
      "AveOccup        1243.333333\n",
      "Latitude          41.950000\n",
      "Longitude       -114.310000\n",
      "House Price        5.000010\n",
      "dtype: float64 \n",
      "\n",
      "MedInc            3.870671\n",
      "HouseAge         28.639486\n",
      "AveRooms          5.429000\n",
      "AveBedrms         1.096675\n",
      "Population     1425.476744\n",
      "AveOccup          3.070655\n",
      "Latitude         35.631861\n",
      "Longitude      -119.569704\n",
      "House Price       2.068558\n",
      "dtype: float64 \n",
      "\n",
      "MedInc            3.534800\n",
      "HouseAge         29.000000\n",
      "AveRooms          5.229129\n",
      "AveBedrms         1.048780\n",
      "Population     1166.000000\n",
      "AveOccup          2.818116\n",
      "Latitude         34.260000\n",
      "Longitude      -118.490000\n",
      "House Price       1.797000\n",
      "dtype: float64\n"
     ]
    }
   ],
   "source": [
    "# whole dataframe\n",
    "print(housing_data.min(), \"\\n\")\n",
    "print(housing_data.max(), \"\\n\")\n",
    "print(housing_data.mean(), \"\\n\")\n",
    "print(housing_data.median())"
   ]
  },
  {
   "cell_type": "code",
   "execution_count": 99,
   "id": "4a39bee0",
   "metadata": {},
   "outputs": [
    {
     "data": {
      "text/html": [
       "<div>\n",
       "<style scoped>\n",
       "    .dataframe tbody tr th:only-of-type {\n",
       "        vertical-align: middle;\n",
       "    }\n",
       "\n",
       "    .dataframe tbody tr th {\n",
       "        vertical-align: top;\n",
       "    }\n",
       "\n",
       "    .dataframe thead th {\n",
       "        text-align: right;\n",
       "    }\n",
       "</style>\n",
       "<table border=\"1\" class=\"dataframe\">\n",
       "  <thead>\n",
       "    <tr style=\"text-align: right;\">\n",
       "      <th></th>\n",
       "      <th>MedInc</th>\n",
       "      <th>HouseAge</th>\n",
       "      <th>AveRooms</th>\n",
       "      <th>AveBedrms</th>\n",
       "      <th>Population</th>\n",
       "      <th>AveOccup</th>\n",
       "      <th>Latitude</th>\n",
       "      <th>Longitude</th>\n",
       "      <th>House Price</th>\n",
       "    </tr>\n",
       "  </thead>\n",
       "  <tbody>\n",
       "    <tr>\n",
       "      <th>count</th>\n",
       "      <td>20640.000000</td>\n",
       "      <td>20640.000000</td>\n",
       "      <td>20640.000000</td>\n",
       "      <td>20640.000000</td>\n",
       "      <td>20640.000000</td>\n",
       "      <td>20640.000000</td>\n",
       "      <td>20640.000000</td>\n",
       "      <td>20640.000000</td>\n",
       "      <td>20640.000000</td>\n",
       "    </tr>\n",
       "    <tr>\n",
       "      <th>mean</th>\n",
       "      <td>3.870671</td>\n",
       "      <td>28.639486</td>\n",
       "      <td>5.429000</td>\n",
       "      <td>1.096675</td>\n",
       "      <td>1425.476744</td>\n",
       "      <td>3.070655</td>\n",
       "      <td>35.631861</td>\n",
       "      <td>-119.569704</td>\n",
       "      <td>2.068558</td>\n",
       "    </tr>\n",
       "    <tr>\n",
       "      <th>std</th>\n",
       "      <td>1.899822</td>\n",
       "      <td>12.585558</td>\n",
       "      <td>2.474173</td>\n",
       "      <td>0.473911</td>\n",
       "      <td>1132.462122</td>\n",
       "      <td>10.386050</td>\n",
       "      <td>2.135952</td>\n",
       "      <td>2.003532</td>\n",
       "      <td>1.153956</td>\n",
       "    </tr>\n",
       "    <tr>\n",
       "      <th>min</th>\n",
       "      <td>0.499900</td>\n",
       "      <td>1.000000</td>\n",
       "      <td>0.846154</td>\n",
       "      <td>0.333333</td>\n",
       "      <td>3.000000</td>\n",
       "      <td>0.692308</td>\n",
       "      <td>32.540000</td>\n",
       "      <td>-124.350000</td>\n",
       "      <td>0.149990</td>\n",
       "    </tr>\n",
       "    <tr>\n",
       "      <th>25%</th>\n",
       "      <td>2.563400</td>\n",
       "      <td>18.000000</td>\n",
       "      <td>4.440716</td>\n",
       "      <td>1.006079</td>\n",
       "      <td>787.000000</td>\n",
       "      <td>2.429741</td>\n",
       "      <td>33.930000</td>\n",
       "      <td>-121.800000</td>\n",
       "      <td>1.196000</td>\n",
       "    </tr>\n",
       "    <tr>\n",
       "      <th>50%</th>\n",
       "      <td>3.534800</td>\n",
       "      <td>29.000000</td>\n",
       "      <td>5.229129</td>\n",
       "      <td>1.048780</td>\n",
       "      <td>1166.000000</td>\n",
       "      <td>2.818116</td>\n",
       "      <td>34.260000</td>\n",
       "      <td>-118.490000</td>\n",
       "      <td>1.797000</td>\n",
       "    </tr>\n",
       "    <tr>\n",
       "      <th>75%</th>\n",
       "      <td>4.743250</td>\n",
       "      <td>37.000000</td>\n",
       "      <td>6.052381</td>\n",
       "      <td>1.099526</td>\n",
       "      <td>1725.000000</td>\n",
       "      <td>3.282261</td>\n",
       "      <td>37.710000</td>\n",
       "      <td>-118.010000</td>\n",
       "      <td>2.647250</td>\n",
       "    </tr>\n",
       "    <tr>\n",
       "      <th>max</th>\n",
       "      <td>15.000100</td>\n",
       "      <td>52.000000</td>\n",
       "      <td>141.909091</td>\n",
       "      <td>34.066667</td>\n",
       "      <td>35682.000000</td>\n",
       "      <td>1243.333333</td>\n",
       "      <td>41.950000</td>\n",
       "      <td>-114.310000</td>\n",
       "      <td>5.000010</td>\n",
       "    </tr>\n",
       "  </tbody>\n",
       "</table>\n",
       "</div>"
      ],
      "text/plain": [
       "             MedInc      HouseAge      AveRooms     AveBedrms    Population  \\\n",
       "count  20640.000000  20640.000000  20640.000000  20640.000000  20640.000000   \n",
       "mean       3.870671     28.639486      5.429000      1.096675   1425.476744   \n",
       "std        1.899822     12.585558      2.474173      0.473911   1132.462122   \n",
       "min        0.499900      1.000000      0.846154      0.333333      3.000000   \n",
       "25%        2.563400     18.000000      4.440716      1.006079    787.000000   \n",
       "50%        3.534800     29.000000      5.229129      1.048780   1166.000000   \n",
       "75%        4.743250     37.000000      6.052381      1.099526   1725.000000   \n",
       "max       15.000100     52.000000    141.909091     34.066667  35682.000000   \n",
       "\n",
       "           AveOccup      Latitude     Longitude   House Price  \n",
       "count  20640.000000  20640.000000  20640.000000  20640.000000  \n",
       "mean       3.070655     35.631861   -119.569704      2.068558  \n",
       "std       10.386050      2.135952      2.003532      1.153956  \n",
       "min        0.692308     32.540000   -124.350000      0.149990  \n",
       "25%        2.429741     33.930000   -121.800000      1.196000  \n",
       "50%        2.818116     34.260000   -118.490000      1.797000  \n",
       "75%        3.282261     37.710000   -118.010000      2.647250  \n",
       "max     1243.333333     41.950000   -114.310000      5.000010  "
      ]
     },
     "execution_count": 99,
     "metadata": {},
     "output_type": "execute_result"
    }
   ],
   "source": [
    "# All in one\n",
    "housing_data.describe()\n",
    "\n",
    "# Outputs count, mean, std, min, 25%, 50% (median), 75%, max.\n",
    "# Automatically ignores NaN values."
   ]
  },
  {
   "cell_type": "markdown",
   "id": "95377c88",
   "metadata": {},
   "source": [
    "3. Insights from California Dataset\n",
    "\n",
    "- Prices range: $15k → $500k (1970s values).\n",
    "\n",
    "- Mean/median differences highlight skewness in features.\n",
    "\n",
    "- Outlier in rooms (AveRooms):\n",
    "\n",
    "- Mean ≈ 5.42, median ≈ 5.22, but one property has nearly 141 rooms → flagged for analysis later.\n",
    "\n",
    "- describe() = quick, reliable snapshot for any dataset."
   ]
  },
  {
   "cell_type": "markdown",
   "id": "b8715675",
   "metadata": {},
   "source": [
    "**Summary:**\n",
    "\n",
    "Descriptive statistics provide a numeric overview of data distributions. Using pandas methods like .min(), .max(), .mean(), .median(), and .describe(), we can quickly summarize central tendency and spread. In the California dataset, we confirmed house price ranges and spotted an outlier in the AveRooms feature. These summaries guide deeper exploration before modeling."
   ]
  },
  {
   "cell_type": "markdown",
   "id": "8cd78577",
   "metadata": {},
   "source": [
    "## 1. What Correlation Means\n",
    "\n",
    "Definition: Correlation = how strongly two variables move together.\n",
    "\n",
    "Types:\n",
    "\n",
    "- Positive correlation: both increase/decrease together (e.g., sun ↑ → ice cream consumption ↑).\n",
    "\n",
    "- Negative correlation: one increases while the other decreases (e.g., time on crowded train ↑ → happiness ↓).\n",
    "\n",
    "- No correlation: variables move independently (e.g., margarine consumption vs divorces in Maine).\n",
    "\n",
    "Strength:\n",
    "\n",
    "- Weak → cloud of points.\n",
    "\n",
    "- Strong → points line up more tightly.\n",
    "\n",
    "- Perfect correlation → straight line.\n",
    "\n",
    "Mathematical notation: ρ (rho).\n",
    "\n",
    "- Range: -1 → +1.\n",
    "\n",
    "- -1 = perfect negative, 0 = no correlation, +1 = perfect positive."
   ]
  },
  {
   "cell_type": "markdown",
   "id": "6b526034",
   "metadata": {},
   "source": [
    "### 2. Why Correlation Matters in ML\n",
    "\n",
    "Helps identify which features are useful for predicting target (house price).\n",
    "\n",
    "We care about:\n",
    "\n",
    "- Strength (magnitude): correlation should be far from 0.\n",
    "\n",
    "- Direction (sign): tells us whether features move in the same (+) or opposite (-) direction as target.\n",
    "\n",
    "High-correlation features = strong candidates for model inputs.\n",
    "\n",
    "Also important to check feature-to-feature correlations → avoid redundancy (multicollinearity)."
   ]
  },
  {
   "cell_type": "markdown",
   "id": "2af6e609",
   "metadata": {},
   "source": [
    "### 3. Preparing for Analysis\n",
    "\n",
    "We’ll explore correlations in two ways:\n",
    "\n",
    "- Calculate correlations (numeric summary).\n",
    "\n",
    "- Visualize correlations (plots/heatmaps).\n",
    "\n",
    "- Jupyter notebook tools (e.g., pandas .corr(), matplotlib, seaborn) make this quick and interpretable."
   ]
  },
  {
   "cell_type": "markdown",
   "id": "a472cdb9",
   "metadata": {},
   "source": [
    "**Summary:**\n",
    "\n",
    "Correlation measures how variables move together, with values between -1 and +1 showing strength and direction. In machine learning, we care about correlations with the target variable (house price) to select predictive features, and also correlations between features to avoid overlap. Next step: compute and visualize correlations in Python."
   ]
  },
  {
   "cell_type": "markdown",
   "id": "c2e05448",
   "metadata": {},
   "source": [
    "## 1. Calculating Correlations in Pandas"
   ]
  },
  {
   "cell_type": "markdown",
   "id": "69241a91",
   "metadata": {},
   "source": [
    "### Correlation  \n",
    "### $$\\rho_{xy} = corr(x, y)$$  \n",
    "### $$-1.0 \\leq \\rho_{xy} \\leq +1.0$$"
   ]
  },
  {
   "cell_type": "code",
   "execution_count": 100,
   "id": "51ce9ea0",
   "metadata": {},
   "outputs": [
    {
     "name": "stdout",
     "output_type": "stream",
     "text": [
      "0.15194828974145785\n"
     ]
    }
   ],
   "source": [
    "# Example:\n",
    "print(housing_data[\"House Price\"].corr(housing_data[\"AveRooms\"]))\n",
    "# → Larger houses (more rooms) tend to be more expensive."
   ]
  },
  {
   "cell_type": "code",
   "execution_count": 101,
   "id": "75b85e62",
   "metadata": {},
   "outputs": [
    {
     "name": "stdout",
     "output_type": "stream",
     "text": [
      "0.6880752079585477\n"
     ]
    }
   ],
   "source": [
    "print(housing_data[\"House Price\"].corr(housing_data[\"MedInc\"]))\n",
    "# → Higher-income areas tend to have more expensive houses."
   ]
  },
  {
   "cell_type": "code",
   "execution_count": 102,
   "id": "0d033838",
   "metadata": {},
   "outputs": [
    {
     "name": "stdout",
     "output_type": "stream",
     "text": [
      "-0.024649678888894896\n"
     ]
    }
   ],
   "source": [
    "print(housing_data[\"House Price\"].corr(housing_data[\"Population\"]))\n",
    "# → More populated areas tend to have slightly cheaper houses."
   ]
  },
  {
   "cell_type": "markdown",
   "id": "bc0bc864",
   "metadata": {},
   "source": [
    "### 2. Correlation Matrix & Pearson Coefficients\n",
    "\n",
    "One-by-one is slow → get all correlations at once:"
   ]
  },
  {
   "cell_type": "code",
   "execution_count": 103,
   "id": "f94b8c43",
   "metadata": {},
   "outputs": [
    {
     "data": {
      "text/html": [
       "<div>\n",
       "<style scoped>\n",
       "    .dataframe tbody tr th:only-of-type {\n",
       "        vertical-align: middle;\n",
       "    }\n",
       "\n",
       "    .dataframe tbody tr th {\n",
       "        vertical-align: top;\n",
       "    }\n",
       "\n",
       "    .dataframe thead th {\n",
       "        text-align: right;\n",
       "    }\n",
       "</style>\n",
       "<table border=\"1\" class=\"dataframe\">\n",
       "  <thead>\n",
       "    <tr style=\"text-align: right;\">\n",
       "      <th></th>\n",
       "      <th>MedInc</th>\n",
       "      <th>HouseAge</th>\n",
       "      <th>AveRooms</th>\n",
       "      <th>AveBedrms</th>\n",
       "      <th>Population</th>\n",
       "      <th>AveOccup</th>\n",
       "      <th>Latitude</th>\n",
       "      <th>Longitude</th>\n",
       "      <th>House Price</th>\n",
       "    </tr>\n",
       "  </thead>\n",
       "  <tbody>\n",
       "    <tr>\n",
       "      <th>MedInc</th>\n",
       "      <td>1.000000</td>\n",
       "      <td>-0.119034</td>\n",
       "      <td>0.326895</td>\n",
       "      <td>-0.062040</td>\n",
       "      <td>0.004834</td>\n",
       "      <td>0.018766</td>\n",
       "      <td>-0.079809</td>\n",
       "      <td>-0.015176</td>\n",
       "      <td>0.688075</td>\n",
       "    </tr>\n",
       "    <tr>\n",
       "      <th>HouseAge</th>\n",
       "      <td>-0.119034</td>\n",
       "      <td>1.000000</td>\n",
       "      <td>-0.153277</td>\n",
       "      <td>-0.077747</td>\n",
       "      <td>-0.296244</td>\n",
       "      <td>0.013191</td>\n",
       "      <td>0.011173</td>\n",
       "      <td>-0.108197</td>\n",
       "      <td>0.105623</td>\n",
       "    </tr>\n",
       "    <tr>\n",
       "      <th>AveRooms</th>\n",
       "      <td>0.326895</td>\n",
       "      <td>-0.153277</td>\n",
       "      <td>1.000000</td>\n",
       "      <td>0.847621</td>\n",
       "      <td>-0.072213</td>\n",
       "      <td>-0.004852</td>\n",
       "      <td>0.106389</td>\n",
       "      <td>-0.027540</td>\n",
       "      <td>0.151948</td>\n",
       "    </tr>\n",
       "    <tr>\n",
       "      <th>AveBedrms</th>\n",
       "      <td>-0.062040</td>\n",
       "      <td>-0.077747</td>\n",
       "      <td>0.847621</td>\n",
       "      <td>1.000000</td>\n",
       "      <td>-0.066197</td>\n",
       "      <td>-0.006181</td>\n",
       "      <td>0.069721</td>\n",
       "      <td>0.013344</td>\n",
       "      <td>-0.046701</td>\n",
       "    </tr>\n",
       "    <tr>\n",
       "      <th>Population</th>\n",
       "      <td>0.004834</td>\n",
       "      <td>-0.296244</td>\n",
       "      <td>-0.072213</td>\n",
       "      <td>-0.066197</td>\n",
       "      <td>1.000000</td>\n",
       "      <td>0.069863</td>\n",
       "      <td>-0.108785</td>\n",
       "      <td>0.099773</td>\n",
       "      <td>-0.024650</td>\n",
       "    </tr>\n",
       "    <tr>\n",
       "      <th>AveOccup</th>\n",
       "      <td>0.018766</td>\n",
       "      <td>0.013191</td>\n",
       "      <td>-0.004852</td>\n",
       "      <td>-0.006181</td>\n",
       "      <td>0.069863</td>\n",
       "      <td>1.000000</td>\n",
       "      <td>0.002366</td>\n",
       "      <td>0.002476</td>\n",
       "      <td>-0.023737</td>\n",
       "    </tr>\n",
       "    <tr>\n",
       "      <th>Latitude</th>\n",
       "      <td>-0.079809</td>\n",
       "      <td>0.011173</td>\n",
       "      <td>0.106389</td>\n",
       "      <td>0.069721</td>\n",
       "      <td>-0.108785</td>\n",
       "      <td>0.002366</td>\n",
       "      <td>1.000000</td>\n",
       "      <td>-0.924664</td>\n",
       "      <td>-0.144160</td>\n",
       "    </tr>\n",
       "    <tr>\n",
       "      <th>Longitude</th>\n",
       "      <td>-0.015176</td>\n",
       "      <td>-0.108197</td>\n",
       "      <td>-0.027540</td>\n",
       "      <td>0.013344</td>\n",
       "      <td>0.099773</td>\n",
       "      <td>0.002476</td>\n",
       "      <td>-0.924664</td>\n",
       "      <td>1.000000</td>\n",
       "      <td>-0.045967</td>\n",
       "    </tr>\n",
       "    <tr>\n",
       "      <th>House Price</th>\n",
       "      <td>0.688075</td>\n",
       "      <td>0.105623</td>\n",
       "      <td>0.151948</td>\n",
       "      <td>-0.046701</td>\n",
       "      <td>-0.024650</td>\n",
       "      <td>-0.023737</td>\n",
       "      <td>-0.144160</td>\n",
       "      <td>-0.045967</td>\n",
       "      <td>1.000000</td>\n",
       "    </tr>\n",
       "  </tbody>\n",
       "</table>\n",
       "</div>"
      ],
      "text/plain": [
       "               MedInc  HouseAge  AveRooms  AveBedrms  Population  AveOccup  \\\n",
       "MedInc       1.000000 -0.119034  0.326895  -0.062040    0.004834  0.018766   \n",
       "HouseAge    -0.119034  1.000000 -0.153277  -0.077747   -0.296244  0.013191   \n",
       "AveRooms     0.326895 -0.153277  1.000000   0.847621   -0.072213 -0.004852   \n",
       "AveBedrms   -0.062040 -0.077747  0.847621   1.000000   -0.066197 -0.006181   \n",
       "Population   0.004834 -0.296244 -0.072213  -0.066197    1.000000  0.069863   \n",
       "AveOccup     0.018766  0.013191 -0.004852  -0.006181    0.069863  1.000000   \n",
       "Latitude    -0.079809  0.011173  0.106389   0.069721   -0.108785  0.002366   \n",
       "Longitude   -0.015176 -0.108197 -0.027540   0.013344    0.099773  0.002476   \n",
       "House Price  0.688075  0.105623  0.151948  -0.046701   -0.024650 -0.023737   \n",
       "\n",
       "             Latitude  Longitude  House Price  \n",
       "MedInc      -0.079809  -0.015176     0.688075  \n",
       "HouseAge     0.011173  -0.108197     0.105623  \n",
       "AveRooms     0.106389  -0.027540     0.151948  \n",
       "AveBedrms    0.069721   0.013344    -0.046701  \n",
       "Population  -0.108785   0.099773    -0.024650  \n",
       "AveOccup     0.002366   0.002476    -0.023737  \n",
       "Latitude     1.000000  -0.924664    -0.144160  \n",
       "Longitude   -0.924664   1.000000    -0.045967  \n",
       "House Price -0.144160  -0.045967     1.000000  "
      ]
     },
     "execution_count": 103,
     "metadata": {},
     "output_type": "execute_result"
    }
   ],
   "source": [
    "housing_data.corr()"
   ]
  },
  {
   "cell_type": "markdown",
   "id": "8df11794",
   "metadata": {},
   "source": [
    "Produces a full symmetric table:\n",
    "\n",
    "- Last column = correlations with target (PRICE).\n",
    "\n",
    "- Diagonal = 1 (variable correlated with itself).\n",
    "\n",
    "- Upper & lower halves are duplicates (symmetric).\n",
    "\n",
    "- Default method = Pearson correlation (linear relationships).\n",
    "\n",
    "This gives both:\n",
    "\n",
    "- Strength (how far from 0).\n",
    "\n",
    "- Direction (positive or negative)."
   ]
  },
  {
   "cell_type": "markdown",
   "id": "a1d0ceed",
   "metadata": {},
   "source": [
    "### 3. Multicollinearity & Why It Matters\n",
    "\n",
    "- Definition: When two or more predictors are highly correlated, making their effects hard to distinguish.\n",
    "\n",
    "- Example: body fat ↔ weight (very correlated). Both affect bone density, but they move together → regression model can’t separate their contributions.\n",
    "\n",
    "- Problem: regression estimates become unreliable; model gets “confused.”\n",
    "\n",
    "- Takeaway: High correlations between features don’t always mean multicollinearity, but they’re a warning sign worth investigating."
   ]
  },
  {
   "cell_type": "markdown",
   "id": "9c9be6cd",
   "metadata": {},
   "source": [
    "**Summary:**\n",
    "\n",
    "We learned how to compute correlations both individually (.corr()) and across the whole dataset (data.corr()). Strong positive or negative correlations help us identify features useful for predicting house prices. But correlations between features themselves may indicate multicollinearity, which can distort regression results. This is something to revisit in the regression stage."
   ]
  },
  {
   "cell_type": "markdown",
   "id": "79ef5636",
   "metadata": {},
   "source": [
    "## 1. Visualizing correlations (goal & idea)\n",
    "\n",
    "- We want a clean, report-ready correlation view — hide duplicate values in the correlation matrix and show just one triangle.\n",
    "\n",
    "- Why hide duplicates? The correlation matrix is symmetric; showing both halves is redundant and visually noisy.\n",
    "\n",
    "- Approach: build a mask (boolean array) that selects the upper triangle, and supply it to Seaborn’s heatmap so only the lower triangle (or vice-versa) is shown.\n",
    "\n",
    "- Add annotations (numbers) and increase font sizes so the chart is readable for reports."
   ]
  },
  {
   "cell_type": "code",
   "execution_count": 138,
   "id": "7c62b3b5",
   "metadata": {},
   "outputs": [
    {
     "data": {
      "image/png": "[encoded data removed]",
      "text/plain": [
       "<Figure size 1280x800 with 2 Axes>"
      ]
     },
     "metadata": {},
     "output_type": "display_data"
    }
   ],
   "source": [
    "# correlation matrix and mask (hide upper triangle)\n",
    "corr = housing_data.corr()\n",
    "mask = np.zeros_like(corr)\n",
    "mask[np.triu_indices_from(mask)] = True   # mask upper triangle\n",
    "\n",
    "# plot\n",
    "# sns.set_style('dark')\n",
    "plt.style.use('dark_background')\n",
    "plt.figure(figsize=(16,10))\n",
    "sns.heatmap(corr, mask=mask, annot=True, annot_kws={\"size\":14})\n",
    "\n",
    "plt.xticks(fontsize=14)\n",
    "plt.yticks(fontsize=12)\n",
    "plt.show()"
   ]
  },
  {
   "cell_type": "markdown",
   "id": "6771063e",
   "metadata": {},
   "source": [
    "### 2. What the heatmap tells you (examples & cautions)\n",
    "\n",
    "Colors encode direction & strength: dark red = strong positive, dark blue = strong negative, pale ≈ 0.\n",
    "\n",
    "Example findings in Boston data:\n",
    "\n",
    "- NOX & INDUS have strong positive correlation (~0.76) — more industry → more pollution (makes sense).\n",
    "\n",
    "- TAX & RAD showed very high correlation (~0.91) — suspiciously high; investigate units/meaning before trusting it.\n",
    "\n",
    "- DIS & INDUS: strong negative correlation (~-0.71) — distance from employment centers is related to industry concentration.\n",
    "\n",
    "Caveats / limitations to keep in mind:\n",
    "\n",
    "- Pearson correlation (default) assumes continuous variables and linear relationships — not valid for dummy variables (CHAS) or discrete indices (RAD) in the strict sense.\n",
    "\n",
    "- Correlation ≠ causation. Spurious correlations exist.\n",
    "\n",
    "- Pearson only captures linear relationships. Low Pearson value doesn’t guarantee no relationship (nonlinear or outliers can hide patterns) — see Anscombe’s Quartet.\n",
    "\n",
    "- High feature-feature correlation can warn about multicollinearity (redundant predictors) — not a guaranteed problem, but a red flag to investigate in regression stage."
   ]
  },
  {
   "cell_type": "markdown",
   "id": "16ff7694",
   "metadata": {},
   "source": [
    "### 3. Practical next steps & decisions for regression\n",
    "\n",
    "Use the heatmap to spot:\n",
    "\n",
    "- Features strongly correlated with PRICE → good candidates for predictors.\n",
    "\n",
    "- Features strongly correlated with each other → possible multicollinearity; decide whether to drop/transform/combine features.\n",
    "\n",
    "For discrete or dummy variables (RAD, CHAS) consider alternative association measures or treat them appropriately (e.g., bar charts, categorical tests) rather than relying only on Pearson.\n",
    "\n",
    "Complement correlation analysis with scatter plots for suspicious pairs (to spot nonlinearity or influential outliers) before final model building."
   ]
  },
  {
   "cell_type": "markdown",
   "id": "846af94a",
   "metadata": {},
   "source": [
    "**Summary:**\n",
    "\n",
    "Make a masked, annotated correlation heatmap to get a compact, readable view of relationships. Use it to find promising predictors and possible multicollinearity, but always remember the limitations: Pearson assumes continuous linear relationships and correlation does not imply causation. Always follow up high/low correlation findings with visualization (scatterplots, histograms) and domain thinking before changing your model."
   ]
  },
  {
   "cell_type": "markdown",
   "id": "8969d449",
   "metadata": {},
   "source": []
  }
 ],
 "metadata": {
  "kernelspec": {
   "display_name": "ml_env",
   "language": "python",
   "name": "python3"
  },
  "language_info": {
   "codemirror_mode": {
    "name": "ipython",
    "version": 3
   },
   "file_extension": ".py",
   "mimetype": "text/x-python",
   "name": "python",
   "nbconvert_exporter": "python",
   "pygments_lexer": "ipython3",
   "version": "3.11.4"
  }
 },
 "nbformat": 4,
 "nbformat_minor": 5
}
